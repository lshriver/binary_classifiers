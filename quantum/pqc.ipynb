{
 "cells": [
  {
   "cell_type": "code",
   "execution_count": null,
   "metadata": {},
   "outputs": [],
   "source": [
    "rom qiskit import transpile\n",
    "from qiskit_aer import Aer, AerSimulator, AerJob\n",
    "\n",
    "def execute(circuits, backend=None, shots=1024, **kwargs):\n",
    "    if backend is None:\n",
    "        backend = AerSimulator()\n",
    "        \n",
    "    # Transpile the circuits for the backend\n",
    "    transpiled_circuits = transpile(circuits, backend)\n",
    "    \n",
    "    # Run the circuits on the backend\n",
    "    job = backend.run(transpiled_circuits, shots=shots, **kwargs)\n",
    "    \n",
    "    return job\n",
    "\n",
    "from qiskit import QuantumCircuit\n",
    "from qiskit.quantum_info import Operator\n",
    "from qiskit.visualization import plot_histogram\n",
    "\n",
    "import matplotlib.pyplot as plt \n",
    "import numpy as np \n",
    "from IPython.display import display, clear_output\n",
    "from math import sqrtpip install scikit-learn"
   ]
  }
 ],
 "metadata": {
  "kernelspec": {
   "display_name": "qenv",
   "language": "python",
   "name": "python3"
  },
  "language_info": {
   "name": "python",
   "version": "3.12.1"
  }
 },
 "nbformat": 4,
 "nbformat_minor": 2
}
