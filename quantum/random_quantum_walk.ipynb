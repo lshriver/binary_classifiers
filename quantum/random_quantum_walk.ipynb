{
 "cells": [
  {
   "cell_type": "code",
   "execution_count": 1,
   "metadata": {},
   "outputs": [],
   "source": [
    "from qiskit import QuantumCircuit\n",
    "from qiskit.quantum_info import Operator\n",
    "from qiskit.visualization import plot_histogram\n",
    "\n",
    "import matplotlib.pyplot as plt\n",
    "import numpy as np\n",
    "from IPython.display import display, clear_output\n",
    "import time"
   ]
  },
  {
   "cell_type": "code",
   "execution_count": 2,
   "metadata": {},
   "outputs": [
    {
     "ename": "MissingOptionalLibraryError",
     "evalue": "\"The 'pylatexenc' library is required to use 'MatplotlibDrawer'. You can install it with 'pip install pylatexenc'.\"",
     "output_type": "error",
     "traceback": [
      "\u001b[0;31m---------------------------------------------------------------------------\u001b[0m",
      "\u001b[0;31mMissingOptionalLibraryError\u001b[0m               Traceback (most recent call last)",
      "\u001b[1;32m/workspaces/overcompensate/quantum/random_quantum_walk.ipynb Cell 2\u001b[0m line \u001b[0;36m8\n\u001b[1;32m      <a href='vscode-notebook-cell://codespaces%2Bominous-space-trout-pjppj5g5975x3r5vw/workspaces/overcompensate/quantum/random_quantum_walk.ipynb#W2sdnNjb2RlLXJlbW90ZQ%3D%3D?line=3'>4</a>\u001b[0m cb \u001b[39m=\u001b[39m \u001b[39m2\u001b[39m      \u001b[39m# number of classical bits\u001b[39;00m\n\u001b[1;32m      <a href='vscode-notebook-cell://codespaces%2Bominous-space-trout-pjppj5g5975x3r5vw/workspaces/overcompensate/quantum/random_quantum_walk.ipynb#W2sdnNjb2RlLXJlbW90ZQ%3D%3D?line=5'>6</a>\u001b[0m qc \u001b[39m=\u001b[39m QuantumCircuit(qb, cb)\n\u001b[0;32m----> <a href='vscode-notebook-cell://codespaces%2Bominous-space-trout-pjppj5g5975x3r5vw/workspaces/overcompensate/quantum/random_quantum_walk.ipynb#W2sdnNjb2RlLXJlbW90ZQ%3D%3D?line=7'>8</a>\u001b[0m qc\u001b[39m.\u001b[39;49mdraw(\u001b[39m'\u001b[39;49m\u001b[39mmpl\u001b[39;49m\u001b[39m'\u001b[39;49m)\n",
      "File \u001b[0;32m/workspaces/overcompensate/venv/lib/python3.12/site-packages/qiskit/circuit/quantumcircuit.py:3394\u001b[0m, in \u001b[0;36mQuantumCircuit.draw\u001b[0;34m(self, output, scale, filename, style, interactive, plot_barriers, reverse_bits, justify, vertical_compression, idle_wires, with_layout, fold, ax, initial_state, cregbundle, wire_order, expr_len)\u001b[0m\n\u001b[1;32m   3391\u001b[0m \u001b[39m# pylint: disable=cyclic-import\u001b[39;00m\n\u001b[1;32m   3392\u001b[0m \u001b[39mfrom\u001b[39;00m \u001b[39mqiskit\u001b[39;00m\u001b[39m.\u001b[39;00m\u001b[39mvisualization\u001b[39;00m \u001b[39mimport\u001b[39;00m circuit_drawer\n\u001b[0;32m-> 3394\u001b[0m \u001b[39mreturn\u001b[39;00m circuit_drawer(\n\u001b[1;32m   3395\u001b[0m     \u001b[39mself\u001b[39;49m,\n\u001b[1;32m   3396\u001b[0m     scale\u001b[39m=\u001b[39;49mscale,\n\u001b[1;32m   3397\u001b[0m     filename\u001b[39m=\u001b[39;49mfilename,\n\u001b[1;32m   3398\u001b[0m     style\u001b[39m=\u001b[39;49mstyle,\n\u001b[1;32m   3399\u001b[0m     output\u001b[39m=\u001b[39;49moutput,\n\u001b[1;32m   3400\u001b[0m     interactive\u001b[39m=\u001b[39;49minteractive,\n\u001b[1;32m   3401\u001b[0m     plot_barriers\u001b[39m=\u001b[39;49mplot_barriers,\n\u001b[1;32m   3402\u001b[0m     reverse_bits\u001b[39m=\u001b[39;49mreverse_bits,\n\u001b[1;32m   3403\u001b[0m     justify\u001b[39m=\u001b[39;49mjustify,\n\u001b[1;32m   3404\u001b[0m     vertical_compression\u001b[39m=\u001b[39;49mvertical_compression,\n\u001b[1;32m   3405\u001b[0m     idle_wires\u001b[39m=\u001b[39;49midle_wires,\n\u001b[1;32m   3406\u001b[0m     with_layout\u001b[39m=\u001b[39;49mwith_layout,\n\u001b[1;32m   3407\u001b[0m     fold\u001b[39m=\u001b[39;49mfold,\n\u001b[1;32m   3408\u001b[0m     ax\u001b[39m=\u001b[39;49max,\n\u001b[1;32m   3409\u001b[0m     initial_state\u001b[39m=\u001b[39;49minitial_state,\n\u001b[1;32m   3410\u001b[0m     cregbundle\u001b[39m=\u001b[39;49mcregbundle,\n\u001b[1;32m   3411\u001b[0m     wire_order\u001b[39m=\u001b[39;49mwire_order,\n\u001b[1;32m   3412\u001b[0m     expr_len\u001b[39m=\u001b[39;49mexpr_len,\n\u001b[1;32m   3413\u001b[0m )\n",
      "File \u001b[0;32m/workspaces/overcompensate/venv/lib/python3.12/site-packages/qiskit/visualization/circuit/circuit_visualization.py:330\u001b[0m, in \u001b[0;36mcircuit_drawer\u001b[0;34m(circuit, scale, filename, style, output, interactive, plot_barriers, reverse_bits, justify, vertical_compression, idle_wires, with_layout, fold, ax, initial_state, cregbundle, wire_order, expr_len)\u001b[0m\n\u001b[1;32m    315\u001b[0m     \u001b[39mreturn\u001b[39;00m _generate_latex_source(\n\u001b[1;32m    316\u001b[0m         circuit,\n\u001b[1;32m    317\u001b[0m         filename\u001b[39m=\u001b[39mfilename,\n\u001b[0;32m   (...)\u001b[0m\n\u001b[1;32m    327\u001b[0m         wire_order\u001b[39m=\u001b[39mcomplete_wire_order,\n\u001b[1;32m    328\u001b[0m     )\n\u001b[1;32m    329\u001b[0m \u001b[39melif\u001b[39;00m output \u001b[39m==\u001b[39m \u001b[39m\"\u001b[39m\u001b[39mmpl\u001b[39m\u001b[39m\"\u001b[39m:\n\u001b[0;32m--> 330\u001b[0m     image \u001b[39m=\u001b[39m _matplotlib_circuit_drawer(\n\u001b[1;32m    331\u001b[0m         circuit,\n\u001b[1;32m    332\u001b[0m         scale\u001b[39m=\u001b[39;49mscale,\n\u001b[1;32m    333\u001b[0m         filename\u001b[39m=\u001b[39;49mfilename,\n\u001b[1;32m    334\u001b[0m         style\u001b[39m=\u001b[39;49mstyle,\n\u001b[1;32m    335\u001b[0m         plot_barriers\u001b[39m=\u001b[39;49mplot_barriers,\n\u001b[1;32m    336\u001b[0m         reverse_bits\u001b[39m=\u001b[39;49mreverse_bits,\n\u001b[1;32m    337\u001b[0m         justify\u001b[39m=\u001b[39;49mjustify,\n\u001b[1;32m    338\u001b[0m         idle_wires\u001b[39m=\u001b[39;49midle_wires,\n\u001b[1;32m    339\u001b[0m         with_layout\u001b[39m=\u001b[39;49mwith_layout,\n\u001b[1;32m    340\u001b[0m         fold\u001b[39m=\u001b[39;49mfold,\n\u001b[1;32m    341\u001b[0m         ax\u001b[39m=\u001b[39;49max,\n\u001b[1;32m    342\u001b[0m         initial_state\u001b[39m=\u001b[39;49minitial_state,\n\u001b[1;32m    343\u001b[0m         cregbundle\u001b[39m=\u001b[39;49mcregbundle,\n\u001b[1;32m    344\u001b[0m         wire_order\u001b[39m=\u001b[39;49mcomplete_wire_order,\n\u001b[1;32m    345\u001b[0m         expr_len\u001b[39m=\u001b[39;49mexpr_len,\n\u001b[1;32m    346\u001b[0m     )\n\u001b[1;32m    347\u001b[0m \u001b[39melse\u001b[39;00m:\n\u001b[1;32m    348\u001b[0m     \u001b[39mraise\u001b[39;00m VisualizationError(\n\u001b[1;32m    349\u001b[0m         \u001b[39mf\u001b[39m\u001b[39m\"\u001b[39m\u001b[39mInvalid output type \u001b[39m\u001b[39m{\u001b[39;00moutput\u001b[39m}\u001b[39;00m\u001b[39m selected. The only valid choices \u001b[39m\u001b[39m\"\u001b[39m\n\u001b[1;32m    350\u001b[0m         \u001b[39m\"\u001b[39m\u001b[39mare text, latex, latex_source, and mpl\u001b[39m\u001b[39m\"\u001b[39m\n\u001b[1;32m    351\u001b[0m     )\n",
      "File \u001b[0;32m/workspaces/overcompensate/venv/lib/python3.12/site-packages/qiskit/visualization/circuit/circuit_visualization.py:710\u001b[0m, in \u001b[0;36m_matplotlib_circuit_drawer\u001b[0;34m(circuit, scale, filename, style, plot_barriers, reverse_bits, justify, idle_wires, with_layout, fold, ax, initial_state, cregbundle, wire_order, expr_len)\u001b[0m\n\u001b[1;32m    707\u001b[0m \u001b[39mif\u001b[39;00m fold \u001b[39mis\u001b[39;00m \u001b[39mNone\u001b[39;00m:\n\u001b[1;32m    708\u001b[0m     fold \u001b[39m=\u001b[39m \u001b[39m25\u001b[39m\n\u001b[0;32m--> 710\u001b[0m qcd \u001b[39m=\u001b[39m _matplotlib\u001b[39m.\u001b[39;49mMatplotlibDrawer(\n\u001b[1;32m    711\u001b[0m     qubits,\n\u001b[1;32m    712\u001b[0m     clbits,\n\u001b[1;32m    713\u001b[0m     nodes,\n\u001b[1;32m    714\u001b[0m     circuit,\n\u001b[1;32m    715\u001b[0m     scale\u001b[39m=\u001b[39;49mscale,\n\u001b[1;32m    716\u001b[0m     style\u001b[39m=\u001b[39;49mstyle,\n\u001b[1;32m    717\u001b[0m     reverse_bits\u001b[39m=\u001b[39;49mreverse_bits,\n\u001b[1;32m    718\u001b[0m     plot_barriers\u001b[39m=\u001b[39;49mplot_barriers,\n\u001b[1;32m    719\u001b[0m     fold\u001b[39m=\u001b[39;49mfold,\n\u001b[1;32m    720\u001b[0m     ax\u001b[39m=\u001b[39;49max,\n\u001b[1;32m    721\u001b[0m     initial_state\u001b[39m=\u001b[39;49minitial_state,\n\u001b[1;32m    722\u001b[0m     cregbundle\u001b[39m=\u001b[39;49mcregbundle,\n\u001b[1;32m    723\u001b[0m     with_layout\u001b[39m=\u001b[39;49mwith_layout,\n\u001b[1;32m    724\u001b[0m     expr_len\u001b[39m=\u001b[39;49mexpr_len,\n\u001b[1;32m    725\u001b[0m )\n\u001b[1;32m    726\u001b[0m \u001b[39mreturn\u001b[39;00m qcd\u001b[39m.\u001b[39mdraw(filename)\n",
      "File \u001b[0;32m/workspaces/overcompensate/venv/lib/python3.12/site-packages/qiskit/utils/classtools.py:111\u001b[0m, in \u001b[0;36m_WrappedMethod.__get__.<locals>.out\u001b[0;34m(*args, **kwargs)\u001b[0m\n\u001b[1;32m    108\u001b[0m \u001b[39m@functools\u001b[39m\u001b[39m.\u001b[39mwraps(method)\n\u001b[1;32m    109\u001b[0m \u001b[39mdef\u001b[39;00m \u001b[39mout\u001b[39m(\u001b[39m*\u001b[39margs, \u001b[39m*\u001b[39m\u001b[39m*\u001b[39mkwargs):\n\u001b[1;32m    110\u001b[0m     \u001b[39mfor\u001b[39;00m callback \u001b[39min\u001b[39;00m \u001b[39mself\u001b[39m\u001b[39m.\u001b[39m_before:\n\u001b[0;32m--> 111\u001b[0m         callback\u001b[39m.\u001b[39;49m\u001b[39m__get__\u001b[39;49m(obj, objtype)(\u001b[39m*\u001b[39;49margs, \u001b[39m*\u001b[39;49m\u001b[39m*\u001b[39;49mkwargs)\n\u001b[1;32m    112\u001b[0m     retval \u001b[39m=\u001b[39m method(\u001b[39m*\u001b[39margs, \u001b[39m*\u001b[39m\u001b[39m*\u001b[39mkwargs)\n\u001b[1;32m    113\u001b[0m     \u001b[39mfor\u001b[39;00m callback \u001b[39min\u001b[39;00m \u001b[39mself\u001b[39m\u001b[39m.\u001b[39m_after:\n",
      "File \u001b[0;32m/workspaces/overcompensate/venv/lib/python3.12/site-packages/qiskit/utils/lazy_tester.py:41\u001b[0m, in \u001b[0;36m_RequireNow.__call__\u001b[0;34m(self, *_args, **_kwargs)\u001b[0m\n\u001b[1;32m     40\u001b[0m \u001b[39mdef\u001b[39;00m \u001b[39m__call__\u001b[39m(\u001b[39mself\u001b[39m, \u001b[39m*\u001b[39m_args, \u001b[39m*\u001b[39m\u001b[39m*\u001b[39m_kwargs):\n\u001b[0;32m---> 41\u001b[0m     \u001b[39mself\u001b[39;49m\u001b[39m.\u001b[39;49m_tester\u001b[39m.\u001b[39;49mrequire_now(\u001b[39mself\u001b[39;49m\u001b[39m.\u001b[39;49m_feature)\n",
      "File \u001b[0;32m/workspaces/overcompensate/venv/lib/python3.12/site-packages/qiskit/utils/lazy_tester.py:221\u001b[0m, in \u001b[0;36mLazyDependencyManager.require_now\u001b[0;34m(self, feature)\u001b[0m\n\u001b[1;32m    219\u001b[0m \u001b[39mif\u001b[39;00m \u001b[39mself\u001b[39m:\n\u001b[1;32m    220\u001b[0m     \u001b[39mreturn\u001b[39;00m\n\u001b[0;32m--> 221\u001b[0m \u001b[39mraise\u001b[39;00m MissingOptionalLibraryError(\n\u001b[1;32m    222\u001b[0m     libname\u001b[39m=\u001b[39m\u001b[39mself\u001b[39m\u001b[39m.\u001b[39m_name, name\u001b[39m=\u001b[39mfeature, pip_install\u001b[39m=\u001b[39m\u001b[39mself\u001b[39m\u001b[39m.\u001b[39m_install, msg\u001b[39m=\u001b[39m\u001b[39mself\u001b[39m\u001b[39m.\u001b[39m_msg\n\u001b[1;32m    223\u001b[0m )\n",
      "\u001b[0;31mMissingOptionalLibraryError\u001b[0m: \"The 'pylatexenc' library is required to use 'MatplotlibDrawer'. You can install it with 'pip install pylatexenc'.\""
     ]
    }
   ],
   "source": [
    "# Create simple quantum circuit\n",
    "\n",
    "qb = 2      # number of quantum bits\n",
    "cb = 2      # number of classical bits\n",
    "\n",
    "qc = QuantumCircuit(qb, cb)\n",
    "\n",
    "qc.draw('mpl')"
   ]
  },
  {
   "cell_type": "markdown",
   "metadata": {},
   "source": [
    "#### Hadamard gates \n",
    "\n",
    "- Hadamard gates are used to transform a 'collapsed' state into a superposition of all possible states\n",
    "- Mathematical reasoning for our simple circuit (2 quits, two classical bits):\n",
    "\n",
    "$$ \\bold{H}| \\vec{0} \\rangle = \\frac{| \\vec{0} \\rangle + | \\vec{1} \\rangle}{\\sqrt{2}}$$\n",
    "\n",
    "$$ \\bold{H}| \\vec{1} \\rangle = \\frac{| \\vec{0} \\rangle - | \\vec{1} \\rangle}{\\sqrt{2}}$$"
   ]
  },
  {
   "cell_type": "code",
   "execution_count": null,
   "metadata": {},
   "outputs": [],
   "source": [
    "# Apply the Hadamard gate to the 2nd qubit of the quantum circuit\n",
    "qc.h(1)\n",
    "qc.draw('mpl')"
   ]
  },
  {
   "cell_type": "markdown",
   "metadata": {},
   "source": [
    "#### Condition for a quantum operator: It should be **Unitary**\n",
    "- Can create a unitary matrix  as follows\n",
    "\n",
    "$$ U = \\sum_{i}{[\\text{next state}][\\text{previous state}]^T} $$"
   ]
  },
  {
   "cell_type": "markdown",
   "metadata": {},
   "source": [
    "##### Problem\n",
    "- Implement the Pauli-X gate as a unitary operator on the first qubit of `qc`\n",
    "- Visualize the modified quantum circuit\n",
    "\n",
    "Notes:\n",
    "- Matrix representation of the Pauli-X gate\n",
    "$$ \n",
    "  \\bf{\\sigma_x} = \\begin{bmatrix}\n",
    "\n",
    "        0 & 1 \\\\ 1 & 0\n",
    "\n",
    "    \\end{bmatrix} \n",
    "$$"
   ]
  },
  {
   "cell_type": "code",
   "execution_count": null,
   "metadata": {},
   "outputs": [],
   "source": [
    "X_mat = [[0, 1], [1, 0]]        # Define Unitary matrix\n",
    "PauliX = Operator(X_mat)        # Construct an operator\n",
    "qc.unitary(PauliX, 0)           # Apply the operator\n",
    "qc.draw('mpl')"
   ]
  },
  {
   "cell_type": "code",
   "execution_count": null,
   "metadata": {},
   "outputs": [],
   "source": [
    "# Measure the quantum circuit to obtain information\n",
    "qc.measure([0,1],[1,0])\n",
    "qc.draw('mpl')"
   ]
  },
  {
   "cell_type": "markdown",
   "metadata": {},
   "source": [
    "# Task 1\n",
    "- Simulate your quantum circuit using 2048 shots\n",
    "- Plot the results as a histogram"
   ]
  },
  {
   "cell_type": "code",
   "execution_count": null,
   "metadata": {},
   "outputs": [],
   "source": [
    "from qiskit.visualization import plot_histogram\n",
    "\n",
    "backend = Aer.get_backend('aer_simulator')\n",
    "result = execute(qc, backend, shot=2048).result()\n",
    "counts = result.get_counts()\n",
    "plot_histogram(counts)"
   ]
  },
  {
   "cell_type": "markdown",
   "metadata": {},
   "source": [
    "# Task 2\n",
    "Construct an 8x8 unitary matrix for a 3-qubit system\n",
    "- Assign the first qubit to `coin toss`\n",
    "- Assign last two qubits to the state of the quantum walker\n",
    "\n",
    "Notes\n",
    "- The state of the quantum circuit is defined as...\n",
    "    $$ |q_\\text{walker}\\rangle \\otimes |q_\\text{coin}\\rangle$$ \n",
    "- We end up with the following unitary matrix:\n",
    "  $$ \\begin{bmatrix}\n",
    "\n",
    "    0 & 0 & 1 & 0 & 0 & 0 & 0 & 0 \\\\\n",
    "    0 & 1 & 0 & 0 & 0 & 0 & 0 & 0 \\\\\n",
    "    0 & 0 & 0 & 0 & 1 & 0 & 0 & 0 \\\\\n",
    "    0 & 0 & 0 & 0 & 0 & 0 & 1 & 0 \\\\\n",
    "    0 & 0 & 0 & 1 & 0 & 0 & 0 & 0 \\\\\n",
    "    0 & 0 & 0 & 0 & 0 & 0 & 0 & 1 \\\\\n",
    "    1 & 0 & 0 & 0 & 0 & 0 & 0 & 0 \\\\\n",
    "    0 & 0 & 0 & 0 & 0 & 1 & 0 & 0 \n",
    "\n",
    "  \\end{bmatrix} $$"
   ]
  },
  {
   "cell_type": "code",
   "execution_count": 8,
   "metadata": {},
   "outputs": [],
   "source": [
    "# Define the unitary operator\n",
    "U_mat = np.zeros((8,8))\n",
    "\n",
    "# Set the 'requsite' elements to 1\n",
    "U_mat[0][2] = 1\n",
    "U_mat[1][1] = 1\n",
    "U_mat[2][4] = 1\n",
    "U_mat[3][6] = 1\n",
    "U_mat[4][3] = 1\n",
    "U_mat[5][7] = 1\n",
    "U_mat[6][0] = 1\n",
    "U_mat[7][5] = 1\n",
    "\n",
    "# Define the Unitary Operator\n",
    "U = Operator(U_mat)"
   ]
  },
  {
   "cell_type": "markdown",
   "metadata": {},
   "source": [
    "# Task 3\n",
    "Construct and simulate a quantum circuit that implements a single step of the quantum random walk\n",
    "- qubit with index `0` will be used to simulate a coin toss \n",
    "- qubits at indices `1` and `2` will be used to identify the state of the quantum walker\n",
    "\n",
    "Hint:\n",
    "- Apply a Hadamard gate to create a quantum coin flip\n",
    "- Apply the `U` operator to simulate the next state of the quantum walker\n",
    "- Make sure you measure the qubits and visualize the circuit to confirm your quantum circuit is the one we are looking for"
   ]
  },
  {
   "cell_type": "code",
   "execution_count": null,
   "metadata": {},
   "outputs": [],
   "source": [
    "qrw = QuantumCircuit(3,3)\n",
    "\n",
    "qrw.h(0)   # apply the Hadamard gate to the first qubit\n",
    "qrw.unitary(U, range(3))\n",
    "\n",
    "qrw.measure(range(3), range(3))\n",
    "qrw.draw('mpl')"
   ]
  },
  {
   "cell_type": "markdown",
   "metadata": {},
   "source": [
    "# Task 4\n",
    "Create a function `dict3_to_dict2()` that...\n",
    "- takes the dictionary of simulation results as input\n",
    "- outputs a dictionary of the states of the quantum random walker\n",
    "\n",
    "Note: We will use the new dictionary to visualize the state of the quantum walker using the histogram method"
   ]
  },
  {
   "cell_type": "code",
   "execution_count": 10,
   "metadata": {},
   "outputs": [],
   "source": [
    "def dict3_to_dict2(counts):\n",
    "    counts_refined = {'00':0, '01':0, '10':0, '11':0}\n",
    "    \n",
    "    for i in counts:\n",
    "        if i[1:3] == '00':\n",
    "            counts_refined['00'] += counts[i]\n",
    "        elif i[1:3] == '01':\n",
    "            counts_refined['01'] += counts[i]\n",
    "        elif i[1:3] == '10':\n",
    "            counts_refined['10'] += counts[i]\n",
    "        else:\n",
    "            counts_refined['11'] += counts[i]\n",
    "    return counts_refined\n"
   ]
  },
  {
   "cell_type": "markdown",
   "metadata": {},
   "source": [
    "# Task 5\n",
    "Create a function `dict2_to_state2()` \n",
    "- Input: dictionary of simulation results\n",
    "- Output: state vector of the quantum random walker\n",
    "\n",
    "Hint:\n",
    "- Create a vector of length `4`. Here is where you will store the results so that the array index corresponds to a node\n",
    "  - E.g., The index `2` should correspond to node `10` on the graph\n",
    "- Save the counts from the dictionary at the appropriate index\n",
    "- Make sure you normalize. You can do this by scalar multiplying 1/(sqrt(sum(array elements^2)))\n",
    "    $$ \\hat{\\mathbf{v}} = \\frac{1}{\\sqrt{\\sum{v_i^2}}} \\mathbf{v}$$"
   ]
  },
  {
   "cell_type": "code",
   "execution_count": 11,
   "metadata": {},
   "outputs": [],
   "source": [
    "def dict3_to_state2(counts):\n",
    "    counts_refined = [0, 0, 0 ,0]\n",
    "    \n",
    "    for idx in counts:\n",
    "        if idx[1:3] == '00':\n",
    "            counts_refined[0] += counts[idx]\n",
    "        elif idx[1:3] == '01':\n",
    "            counts_refined[1] += counts[idx]\n",
    "        elif idx[1:3] == '10':\n",
    "            counts_refined[2] += counts[idx]\n",
    "        else:\n",
    "            counts_refined[3] += counts[idx]\n",
    "    return counts_refined/np.sqrt(np.sum(np.square(counts_refined)))\n",
    "        "
   ]
  },
  {
   "cell_type": "markdown",
   "metadata": {},
   "source": [
    "# Task 7\n",
    "Create the `step()` function"
   ]
  },
  {
   "cell_type": "code",
   "execution_count": 12,
   "metadata": {},
   "outputs": [],
   "source": [
    "def step(state, U, N):\n",
    "    counts_arr = []\n",
    "    qrw_circ = QuantumCircuit(3,3)\n",
    "    qrw_circ.initialize(state, [1,2])\n",
    "    \n",
    "    for _ in range(N):\n",
    "        qrw_circ.h(0)\n",
    "        qrw_circ.unitary(U, range(3))\n",
    "        \n",
    "    qrw_circ.measure(range(3), range(3))\n",
    "    \n",
    "    return qrw_circ"
   ]
  },
  {
   "cell_type": "markdown",
   "metadata": {},
   "source": [
    "# Task 8\n",
    "Create a function `quantum_random_walk()` that generates the quantum random walk.\n",
    "- Parameters:\n",
    "  - `state`: the initial state of the quantum circuit\n",
    "  - `U`: the unitary matrix\n",
    "  - `N`: the number of steps\n",
    "  - `backend`: the backend simulator for running the quantum circuit\n",
    "- Return values:\n",
    "  - `count_arr`: an array of counts (saves the simulation results of each step)\n",
    "  - `count_dict`: a dictionary of counts (saves the simulation results of the walker)\n",
    "\n",
    "Hints:\n",
    "- Use `step()` to implement a single step of the quantum random walk\n",
    "- Use `dict3_to_dict2()` and `dict3_to_state2()` to obtain data for the simulation results"
   ]
  },
  {
   "cell_type": "code",
   "execution_count": 13,
   "metadata": {},
   "outputs": [],
   "source": [
    "def quantum_random_walk(state, U, N, backend):\n",
    "    counts_arr = []\n",
    "    counts_dict = []\n",
    "    \n",
    "    for i in range(N):\n",
    "        qrw_circ = step(state, U, i)\n",
    "        qrw_result = execute(qrw_circ, backend, shots=2048).result()\n",
    "        qrw_counts = qrw_result.get_counts()\n",
    "        \n",
    "        counts_arr.append(dict3_to_state2(qrw_counts))\n",
    "        counts_dict.append(dict3_to_dict2(qrw_counts))\n",
    "    \n",
    "    return counts_arr, counts_dict"
   ]
  },
  {
   "cell_type": "markdown",
   "metadata": {},
   "source": [
    "# Task 7\n",
    "Run the `quantum_random_walk()` function. Make sure to...\n",
    "- Implement `N=10` steps\n",
    "- Use `[1, 0, 0 ,0]` as the initial state\n",
    "- Save your results as `counts_arr` and `counts_dict`"
   ]
  },
  {
   "cell_type": "code",
   "execution_count": 14,
   "metadata": {},
   "outputs": [],
   "source": [
    "backend = Aer.get_backend('aer_simulator')\n",
    "N = 10\n",
    "initial_state = [1, 0, 0, 0]\n",
    "\n",
    "counts_arr, counts_dict = quantum_random_walk(initial_state, U, N, backend)"
   ]
  },
  {
   "cell_type": "markdown",
   "metadata": {},
   "source": [
    "# Task 8\n",
    "Visualize the results"
   ]
  },
  {
   "cell_type": "code",
   "execution_count": null,
   "metadata": {},
   "outputs": [],
   "source": [
    "from time import sleep\n",
    "fig, ax = plt.subplots()\n",
    "\n",
    "for i in range(10):\n",
    "    ax.clear()\n",
    "    plot_histogram(counts_dict[i], ax=ax)\n",
    "    display(fig)\n",
    "    sleep(1)\n",
    "    clear_output()"
   ]
  },
  {
   "cell_type": "code",
   "execution_count": null,
   "metadata": {},
   "outputs": [],
   "source": [
    "qrw_circ.save_unitary()\n",
    "\n",
    "simulator = Aer.get_backend('aer_simulator')\n",
    "result = simulator.run(qrw_circ).result()\n",
    "unitary = result.get_unitary(qrw_circ)\n",
    "print(\"Circuit unitary:\\n\", np.asarray(unitary).round(5))\n",
    "\n"
   ]
  },
  {
   "cell_type": "code",
   "execution_count": null,
   "metadata": {},
   "outputs": [],
   "source": []
  }
 ],
 "metadata": {
  "kernelspec": {
   "display_name": "qenv",
   "language": "python",
   "name": "python3"
  },
  "language_info": {
   "codemirror_mode": {
    "name": "ipython",
    "version": 3
   },
   "file_extension": ".py",
   "mimetype": "text/x-python",
   "name": "python",
   "nbconvert_exporter": "python",
   "pygments_lexer": "ipython3",
   "version": "3.11.2"
  }
 },
 "nbformat": 4,
 "nbformat_minor": 2
}
