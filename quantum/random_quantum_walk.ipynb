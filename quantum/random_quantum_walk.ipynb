{
 "cells": [
  {
   "cell_type": "code",
   "execution_count": 1,
   "metadata": {},
   "outputs": [],
   "source": [
    "from qiskit import QuantumCircuit\n",
    "from qiskit.quantum_info import Operator\n",
    "from qiskit.visualization import plot_histogram\n",
    "\n",
    "import matplotlib.pyplot as plt\n",
    "import numpy as np\n",
    "from IPython.display import display, clear_output\n",
    "import time"
   ]
  },
  {
   "cell_type": "code",
   "execution_count": 2,
   "metadata": {},
   "outputs": [
    {
     "data": {
      "image/png": "[encoded data removed]",
      "text/plain": [
       "<Figure size 161.878x284.278 with 1 Axes>"
      ]
     },
     "execution_count": 2,
     "metadata": {},
     "output_type": "execute_result"
    }
   ],
   "source": [
    "# Create simple quantum circuit\n",
    "\n",
    "qb = 2      # number of quantum bits\n",
    "cb = 2      # number of classical bits\n",
    "\n",
    "qc = QuantumCircuit(qb, cb)\n",
    "\n",
    "qc.draw('mpl')"
   ]
  },
  {
   "cell_type": "markdown",
   "metadata": {},
   "source": [
    "#### Hadamard gates \n",
    "\n",
    "- Hadamard gates are used to transform a 'collapsed' state into a superposition of all possible states\n",
    "- Mathematical reasoning for our simple circuit (2 quits, two classical bits):\n",
    "\n",
    "$$ \\bold{H}| \\vec{0} \\rangle = \\frac{| \\vec{0} \\rangle + | \\vec{1} \\rangle}{\\sqrt{2}}$$\n",
    "\n",
    "$$ \\bold{H}| \\vec{1} \\rangle = \\frac{| \\vec{0} \\rangle - | \\vec{1} \\rangle}{\\sqrt{2}}$$"
   ]
  },
  {
   "cell_type": "code",
   "execution_count": 3,
   "metadata": {},
   "outputs": [
    {
     "data": {
      "image/png": "[encoded data removed]",
      "text/plain": [
       "<Figure size 203.683x284.278 with 1 Axes>"
      ]
     },
     "execution_count": 3,
     "metadata": {},
     "output_type": "execute_result"
    }
   ],
   "source": [
    "# Apply the Hadamard gate to the 2nd qubit of the quantum circuit\n",
    "qc.h(1)\n",
    "qc.draw('mpl')"
   ]
  },
  {
   "cell_type": "markdown",
   "metadata": {},
   "source": [
    "#### Condition for a quantum operator: It should be **Unitary**\n",
    "- Can create a unitary matrix  as follows\n",
    "\n",
    "$$ U = \\sum_{i}{[\\text{next state}][\\text{previous state}]^T} $$"
   ]
  },
  {
   "cell_type": "markdown",
   "metadata": {},
   "source": [
    "##### Problem\n",
    "- Implement the Pauli-X gate as a unitary operator on the first qubit of `qc`\n",
    "- Visualize the modified quantum circuit\n",
    "\n",
    "Notes:\n",
    "- Matrix representation of the Pauli-X gate\n",
    "$$ \n",
    "  \\bf{\\sigma_x} = \\begin{bmatrix}\n",
    "\n",
    "        0 & 1 \\\\ 1 & 0\n",
    "\n",
    "    \\end{bmatrix} \n",
    "$$"
   ]
  },
  {
   "cell_type": "code",
   "execution_count": 4,
   "metadata": {},
   "outputs": [
    {
     "data": {
      "image/png": "[encoded data removed]",
      "text/plain": [
       "<Figure size 287.294x284.278 with 1 Axes>"
      ]
     },
     "execution_count": 4,
     "metadata": {},
     "output_type": "execute_result"
    }
   ],
   "source": [
    "X_mat = [[0, 1], [1, 0]]        # Define Unitary matrix\n",
    "PauliX = Operator(X_mat)        # Construct an operator\n",
    "qc.unitary(PauliX, 0)           # Apply the operator\n",
    "qc.draw('mpl')"
   ]
  },
  {
   "cell_type": "code",
   "execution_count": 5,
   "metadata": {},
   "outputs": [
    {
     "data": {
      "image/png": "[encoded data removed]",
      "text/plain": [
       "<Figure size 454.517x284.278 with 1 Axes>"
      ]
     },
     "execution_count": 5,
     "metadata": {},
     "output_type": "execute_result"
    }
   ],
   "source": [
    "# Measure the quantum circuit to obtain information\n",
    "qc.measure([0,1],[1,0])\n",
    "qc.draw('mpl')"
   ]
  },
  {
   "cell_type": "markdown",
   "metadata": {},
   "source": [
    "# Task 1\n",
    "- Simulate your quantum circuit using 2048 shots\n",
    "- Plot the results as a histogram"
   ]
  },
  {
   "cell_type": "code",
   "execution_count": 6,
   "metadata": {},
   "outputs": [
    {
     "ename": "NameError",
     "evalue": "name 'Aer' is not defined",
     "output_type": "error",
     "traceback": [
      "\u001b[0;31m---------------------------------------------------------------------------\u001b[0m",
      "\u001b[0;31mNameError\u001b[0m                                 Traceback (most recent call last)",
      "\u001b[1;32m/workspaces/binary_classifiers/quantum/random_quantum_walk.ipynb Cell 10\u001b[0m line \u001b[0;36m3\n\u001b[1;32m      <a href='vscode-notebook-cell://codespaces%2Bsolid-space-journey-q7pp759567993vjw/workspaces/binary_classifiers/quantum/random_quantum_walk.ipynb#X12sdnNjb2RlLXJlbW90ZQ%3D%3D?line=0'>1</a>\u001b[0m \u001b[39mfrom\u001b[39;00m \u001b[39mqiskit\u001b[39;00m\u001b[39m.\u001b[39;00m\u001b[39mvisualization\u001b[39;00m \u001b[39mimport\u001b[39;00m plot_histogram\n\u001b[0;32m----> <a href='vscode-notebook-cell://codespaces%2Bsolid-space-journey-q7pp759567993vjw/workspaces/binary_classifiers/quantum/random_quantum_walk.ipynb#X12sdnNjb2RlLXJlbW90ZQ%3D%3D?line=2'>3</a>\u001b[0m backend \u001b[39m=\u001b[39m Aer\u001b[39m.\u001b[39mget_backend(\u001b[39m'\u001b[39m\u001b[39maer_simulator\u001b[39m\u001b[39m'\u001b[39m)\n\u001b[1;32m      <a href='vscode-notebook-cell://codespaces%2Bsolid-space-journey-q7pp759567993vjw/workspaces/binary_classifiers/quantum/random_quantum_walk.ipynb#X12sdnNjb2RlLXJlbW90ZQ%3D%3D?line=3'>4</a>\u001b[0m result \u001b[39m=\u001b[39m execute(qc, backend, shot\u001b[39m=\u001b[39m\u001b[39m2048\u001b[39m)\u001b[39m.\u001b[39mresult()\n\u001b[1;32m      <a href='vscode-notebook-cell://codespaces%2Bsolid-space-journey-q7pp759567993vjw/workspaces/binary_classifiers/quantum/random_quantum_walk.ipynb#X12sdnNjb2RlLXJlbW90ZQ%3D%3D?line=4'>5</a>\u001b[0m counts \u001b[39m=\u001b[39m result\u001b[39m.\u001b[39mget_counts()\n",
      "\u001b[0;31mNameError\u001b[0m: name 'Aer' is not defined"
     ]
    }
   ],
   "source": [
    "from qiskit.visualization import plot_histogram\n",
    "\n",
    "backend = Aer.get_backend('aer_simulator')\n",
    "result = execute(qc, backend, shot=2048).result()\n",
    "counts = result.get_counts()\n",
    "plot_histogram(counts)"
   ]
  },
  {
   "cell_type": "markdown",
   "metadata": {},
   "source": [
    "# Task 2\n",
    "Construct an 8x8 unitary matrix for a 3-qubit system\n",
    "- Assign the first qubit to `coin toss`\n",
    "- Assign last two qubits to the state of the quantum walker\n",
    "\n",
    "Notes\n",
    "- The state of the quantum circuit is defined as...\n",
    "    $$ |q_\\text{walker}\\rangle \\otimes |q_\\text{coin}\\rangle$$ \n",
    "- We end up with the following unitary matrix:\n",
    "  $$ \\begin{bmatrix}\n",
    "\n",
    "    0 & 0 & 1 & 0 & 0 & 0 & 0 & 0 \\\\\n",
    "    0 & 1 & 0 & 0 & 0 & 0 & 0 & 0 \\\\\n",
    "    0 & 0 & 0 & 0 & 1 & 0 & 0 & 0 \\\\\n",
    "    0 & 0 & 0 & 0 & 0 & 0 & 1 & 0 \\\\\n",
    "    0 & 0 & 0 & 1 & 0 & 0 & 0 & 0 \\\\\n",
    "    0 & 0 & 0 & 0 & 0 & 0 & 0 & 1 \\\\\n",
    "    1 & 0 & 0 & 0 & 0 & 0 & 0 & 0 \\\\\n",
    "    0 & 0 & 0 & 0 & 0 & 1 & 0 & 0 \n",
    "\n",
    "  \\end{bmatrix} $$"
   ]
  },
  {
   "cell_type": "code",
   "execution_count": 8,
   "metadata": {},
   "outputs": [],
   "source": [
    "# Define the unitary operator\n",
    "U_mat = np.zeros((8,8))\n",
    "\n",
    "# Set the 'requsite' elements to 1\n",
    "U_mat[0][2] = 1\n",
    "U_mat[1][1] = 1\n",
    "U_mat[2][4] = 1\n",
    "U_mat[3][6] = 1\n",
    "U_mat[4][3] = 1\n",
    "U_mat[5][7] = 1\n",
    "U_mat[6][0] = 1\n",
    "U_mat[7][5] = 1\n",
    "\n",
    "# Define the Unitary Operator\n",
    "U = Operator(U_mat)"
   ]
  },
  {
   "cell_type": "markdown",
   "metadata": {},
   "source": [
    "# Task 3\n",
    "Construct and simulate a quantum circuit that implements a single step of the quantum random walk\n",
    "- qubit with index `0` will be used to simulate a coin toss \n",
    "- qubits at indices `1` and `2` will be used to identify the state of the quantum walker\n",
    "\n",
    "Hint:\n",
    "- Apply a Hadamard gate to create a quantum coin flip\n",
    "- Apply the `U` operator to simulate the next state of the quantum walker\n",
    "- Make sure you measure the qubits and visualize the circuit to confirm your quantum circuit is the one we are looking for"
   ]
  },
  {
   "cell_type": "code",
   "execution_count": null,
   "metadata": {},
   "outputs": [],
   "source": [
    "qrw = QuantumCircuit(3,3)\n",
    "\n",
    "qrw.h(0)   # apply the Hadamard gate to the first qubit\n",
    "qrw.unitary(U, range(3))\n",
    "\n",
    "qrw.measure(range(3), range(3))\n",
    "qrw.draw('mpl')"
   ]
  },
  {
   "cell_type": "markdown",
   "metadata": {},
   "source": [
    "# Task 4\n",
    "Create a function `dict3_to_dict2()` that...\n",
    "- takes the dictionary of simulation results as input\n",
    "- outputs a dictionary of the states of the quantum random walker\n",
    "\n",
    "Note: We will use the new dictionary to visualize the state of the quantum walker using the histogram method"
   ]
  },
  {
   "cell_type": "code",
   "execution_count": 10,
   "metadata": {},
   "outputs": [],
   "source": [
    "def dict3_to_dict2(counts):\n",
    "    counts_refined = {'00':0, '01':0, '10':0, '11':0}\n",
    "    \n",
    "    for i in counts:\n",
    "        if i[1:3] == '00':\n",
    "            counts_refined['00'] += counts[i]\n",
    "        elif i[1:3] == '01':\n",
    "            counts_refined['01'] += counts[i]\n",
    "        elif i[1:3] == '10':\n",
    "            counts_refined['10'] += counts[i]\n",
    "        else:\n",
    "            counts_refined['11'] += counts[i]\n",
    "    return counts_refined\n"
   ]
  },
  {
   "cell_type": "markdown",
   "metadata": {},
   "source": [
    "# Task 5\n",
    "Create a function `dict2_to_state2()` \n",
    "- Input: dictionary of simulation results\n",
    "- Output: state vector of the quantum random walker\n",
    "\n",
    "Hint:\n",
    "- Create a vector of length `4`. Here is where you will store the results so that the array index corresponds to a node\n",
    "  - E.g., The index `2` should correspond to node `10` on the graph\n",
    "- Save the counts from the dictionary at the appropriate index\n",
    "- Make sure you normalize. You can do this by scalar multiplying 1/(sqrt(sum(array elements^2)))\n",
    "    $$ \\hat{\\mathbf{v}} = \\frac{1}{\\sqrt{\\sum{v_i^2}}} \\mathbf{v}$$"
   ]
  },
  {
   "cell_type": "code",
   "execution_count": 11,
   "metadata": {},
   "outputs": [],
   "source": [
    "def dict3_to_state2(counts):\n",
    "    counts_refined = [0, 0, 0 ,0]\n",
    "    \n",
    "    for idx in counts:\n",
    "        if idx[1:3] == '00':\n",
    "            counts_refined[0] += counts[idx]\n",
    "        elif idx[1:3] == '01':\n",
    "            counts_refined[1] += counts[idx]\n",
    "        elif idx[1:3] == '10':\n",
    "            counts_refined[2] += counts[idx]\n",
    "        else:\n",
    "            counts_refined[3] += counts[idx]\n",
    "    return counts_refined/np.sqrt(np.sum(np.square(counts_refined)))\n",
    "        "
   ]
  },
  {
   "cell_type": "markdown",
   "metadata": {},
   "source": [
    "# Task 7\n",
    "Create the `step()` function"
   ]
  },
  {
   "cell_type": "code",
   "execution_count": 12,
   "metadata": {},
   "outputs": [],
   "source": [
    "def step(state, U, N):\n",
    "    counts_arr = []\n",
    "    qrw_circ = QuantumCircuit(3,3)\n",
    "    qrw_circ.initialize(state, [1,2])\n",
    "    \n",
    "    for _ in range(N):\n",
    "        qrw_circ.h(0)\n",
    "        qrw_circ.unitary(U, range(3))\n",
    "        \n",
    "    qrw_circ.measure(range(3), range(3))\n",
    "    \n",
    "    return qrw_circ"
   ]
  },
  {
   "cell_type": "markdown",
   "metadata": {},
   "source": [
    "# Task 8\n",
    "Create a function `quantum_random_walk()` that generates the quantum random walk.\n",
    "- Parameters:\n",
    "  - `state`: the initial state of the quantum circuit\n",
    "  - `U`: the unitary matrix\n",
    "  - `N`: the number of steps\n",
    "  - `backend`: the backend simulator for running the quantum circuit\n",
    "- Return values:\n",
    "  - `count_arr`: an array of counts (saves the simulation results of each step)\n",
    "  - `count_dict`: a dictionary of counts (saves the simulation results of the walker)\n",
    "\n",
    "Hints:\n",
    "- Use `step()` to implement a single step of the quantum random walk\n",
    "- Use `dict3_to_dict2()` and `dict3_to_state2()` to obtain data for the simulation results"
   ]
  },
  {
   "cell_type": "code",
   "execution_count": 13,
   "metadata": {},
   "outputs": [],
   "source": [
    "def quantum_random_walk(state, U, N, backend):\n",
    "    counts_arr = []\n",
    "    counts_dict = []\n",
    "    \n",
    "    for i in range(N):\n",
    "        qrw_circ = step(state, U, i)\n",
    "        qrw_result = execute(qrw_circ, backend, shots=2048).result()\n",
    "        qrw_counts = qrw_result.get_counts()\n",
    "        \n",
    "        counts_arr.append(dict3_to_state2(qrw_counts))\n",
    "        counts_dict.append(dict3_to_dict2(qrw_counts))\n",
    "    \n",
    "    return counts_arr, counts_dict"
   ]
  },
  {
   "cell_type": "markdown",
   "metadata": {},
   "source": [
    "# Task 7\n",
    "Run the `quantum_random_walk()` function. Make sure to...\n",
    "- Implement `N=10` steps\n",
    "- Use `[1, 0, 0 ,0]` as the initial state\n",
    "- Save your results as `counts_arr` and `counts_dict`"
   ]
  },
  {
   "cell_type": "code",
   "execution_count": 14,
   "metadata": {},
   "outputs": [],
   "source": [
    "backend = Aer.get_backend('aer_simulator')\n",
    "N = 10\n",
    "initial_state = [1, 0, 0, 0]\n",
    "\n",
    "counts_arr, counts_dict = quantum_random_walk(initial_state, U, N, backend)"
   ]
  },
  {
   "cell_type": "markdown",
   "metadata": {},
   "source": [
    "# Task 8\n",
    "Visualize the results"
   ]
  },
  {
   "cell_type": "code",
   "execution_count": null,
   "metadata": {},
   "outputs": [],
   "source": [
    "from time import sleep\n",
    "fig, ax = plt.subplots()\n",
    "\n",
    "for i in range(10):\n",
    "    ax.clear()\n",
    "    plot_histogram(counts_dict[i], ax=ax)\n",
    "    display(fig)\n",
    "    sleep(1)\n",
    "    clear_output()"
   ]
  },
  {
   "cell_type": "code",
   "execution_count": null,
   "metadata": {},
   "outputs": [],
   "source": [
    "qrw_circ.save_unitary()\n",
    "\n",
    "simulator = Aer.get_backend('aer_simulator')\n",
    "result = simulator.run(qrw_circ).result()\n",
    "unitary = result.get_unitary(qrw_circ)\n",
    "print(\"Circuit unitary:\\n\", np.asarray(unitary).round(5))\n",
    "\n"
   ]
  },
  {
   "cell_type": "code",
   "execution_count": null,
   "metadata": {},
   "outputs": [],
   "source": []
  }
 ],
 "metadata": {
  "kernelspec": {
   "display_name": "qenv",
   "language": "python",
   "name": "python3"
  },
  "language_info": {
   "codemirror_mode": {
    "name": "ipython",
    "version": 3
   },
   "file_extension": ".py",
   "mimetype": "text/x-python",
   "name": "python",
   "nbconvert_exporter": "python",
   "pygments_lexer": "ipython3",
   "version": "3.11.2"
  }
 },
 "nbformat": 4,
 "nbformat_minor": 2
}
