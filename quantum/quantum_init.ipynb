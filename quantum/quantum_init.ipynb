{
 "cells": [
  {
   "cell_type": "code",
   "execution_count": 3,
   "metadata": {},
   "outputs": [],
   "source": [
    "from qiskit import transpile\n",
    "from qiskit_aer import Aer, AerSimulator, AerJob\n",
    "\n",
    "def execute(circuits, backend=None, shots=1024, **kwargs):\n",
    "    if backend is None:\n",
    "        backend = AerSimulator()\n",
    "        \n",
    "    # Transpile the circuits for the backend\n",
    "    transpiled_circuits = transpile(circuits, backend)\n",
    "    \n",
    "    # Run the circuits on the backend\n",
    "    job = backend.run(transpiled_circuits, shots=shots, **kwargs)\n",
    "    \n",
    "    return job\n",
    "\n",
    "from qiskit import QuantumCircuit\n",
    "from qiskit.quantum_info import Operator\n",
    "from qiskit.visualization import plot_histogram\n",
    "\n",
    "import matplotlib.pyplot as plt \n",
    "import numpy as np \n",
    "from IPython.display import display, clear_output\n",
    "from math import sqrt"
   ]
  }
 ],
 "metadata": {
  "kernelspec": {
   "display_name": "qenv",
   "language": "python",
   "name": "python3"
  },
  "language_info": {
   "codemirror_mode": {
    "name": "ipython",
    "version": 3
   },
   "file_extension": ".py",
   "mimetype": "text/x-python",
   "name": "python",
   "nbconvert_exporter": "python",
   "pygments_lexer": "ipython3",
   "version": "3.11.2"
  }
 },
 "nbformat": 4,
 "nbformat_minor": 2
}
