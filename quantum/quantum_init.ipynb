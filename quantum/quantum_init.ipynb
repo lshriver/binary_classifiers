{
 "cells": [
  {
   "cell_type": "code",
   "execution_count": 1,
   "metadata": {},
   "outputs": [
    {
     "ename": "ModuleNotFoundError",
     "evalue": "No module named 'qiskit_aer'",
     "output_type": "error",
     "traceback": [
      "\u001b[0;31m---------------------------------------------------------------------------\u001b[0m",
      "\u001b[0;31mModuleNotFoundError\u001b[0m                       Traceback (most recent call last)",
      "\u001b[1;32m/workspaces/binary_classifiers/quantum/quantum_init.ipynb Cell 1\u001b[0m line \u001b[0;36m2\n\u001b[1;32m      <a href='vscode-notebook-cell://codespaces%2Bglowing-space-succotash-5gxxg7475vwgc77xr/workspaces/binary_classifiers/quantum/quantum_init.ipynb#W0sdnNjb2RlLXJlbW90ZQ%3D%3D?line=0'>1</a>\u001b[0m \u001b[39mfrom\u001b[39;00m \u001b[39mqiskit\u001b[39;00m \u001b[39mimport\u001b[39;00m transpile\n\u001b[0;32m----> <a href='vscode-notebook-cell://codespaces%2Bglowing-space-succotash-5gxxg7475vwgc77xr/workspaces/binary_classifiers/quantum/quantum_init.ipynb#W0sdnNjb2RlLXJlbW90ZQ%3D%3D?line=1'>2</a>\u001b[0m \u001b[39mfrom\u001b[39;00m \u001b[39mqiskit_aer\u001b[39;00m \u001b[39mimport\u001b[39;00m Aer, AerSimulator, AerJob\n\u001b[1;32m      <a href='vscode-notebook-cell://codespaces%2Bglowing-space-succotash-5gxxg7475vwgc77xr/workspaces/binary_classifiers/quantum/quantum_init.ipynb#W0sdnNjb2RlLXJlbW90ZQ%3D%3D?line=3'>4</a>\u001b[0m \u001b[39mdef\u001b[39;00m \u001b[39mexecute\u001b[39m(circuits, backend\u001b[39m=\u001b[39m\u001b[39mNone\u001b[39;00m, shots\u001b[39m=\u001b[39m\u001b[39m1024\u001b[39m, \u001b[39m*\u001b[39m\u001b[39m*\u001b[39mkwargs):\n\u001b[1;32m      <a href='vscode-notebook-cell://codespaces%2Bglowing-space-succotash-5gxxg7475vwgc77xr/workspaces/binary_classifiers/quantum/quantum_init.ipynb#W0sdnNjb2RlLXJlbW90ZQ%3D%3D?line=4'>5</a>\u001b[0m     \u001b[39mif\u001b[39;00m backend \u001b[39mis\u001b[39;00m \u001b[39mNone\u001b[39;00m:\n",
      "\u001b[0;31mModuleNotFoundError\u001b[0m: No module named 'qiskit_aer'"
     ]
    }
   ],
   "source": [
    "from qiskit import transpile\n",
    "from qiskit_aer import Aer, AerSimulator, AerJob\n",
    "\n",
    "def execute(circuits, backend=None, shots=1024, **kwargs):\n",
    "    if backend is None:\n",
    "        backend = AerSimulator()\n",
    "        \n",
    "    # Transpile the circuits for the backend\n",
    "    transpiled_circuits = transpile(circuits, backend)\n",
    "    \n",
    "    # Run the circuits on the backend\n",
    "    job = backend.run(transpiled_circuits, shots=shots, **kwargs)\n",
    "    \n",
    "    return job\n",
    "\n",
    "from qiskit import QuantumCircuit\n",
    "from qiskit.quantum_info import Operator\n",
    "from qiskit.visualization import plot_histogram\n",
    "\n",
    "import matplotlib.pyplot as plt \n",
    "import numpy as np \n",
    "from IPython.display import display, clear_output\n",
    "from math import sqrt"
   ]
  }
 ],
 "metadata": {
  "kernelspec": {
   "display_name": "qenv",
   "language": "python",
   "name": "python3"
  },
  "language_info": {
   "codemirror_mode": {
    "name": "ipython",
    "version": 3
   },
   "file_extension": ".py",
   "mimetype": "text/x-python",
   "name": "python",
   "nbconvert_exporter": "python",
   "pygments_lexer": "ipython3",
   "version": "3.11.2"
  }
 },
 "nbformat": 4,
 "nbformat_minor": 2
}
