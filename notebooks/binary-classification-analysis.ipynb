{
 "cells": [
  {
   "cell_type": "code",
   "execution_count": 25,
   "metadata": {},
   "outputs": [],
   "source": [
    "import sys\n",
    "sys.path.append('/workspaces/quantum/')\n",
    "from colors import Bcolors as bc"
   ]
  },
  {
   "cell_type": "code",
   "execution_count": 26,
   "metadata": {},
   "outputs": [],
   "source": [
    "import numpy as np\n",
    "\n",
    "# Load the training data\n",
    "with open('../data/split-data/train.npy', 'rb') as f:\n",
    "    train_input = np.load(f)\n",
    "    train_labels = np.load(f)\n",
    "\n",
    "# Load the testing data\n",
    "with open('../data/split-data/test.npy', 'rb') as f:\n",
    "    test_input = np.load(f)\n",
    "    test_labels = np.load(f)"
   ]
  },
  {
   "cell_type": "markdown",
   "metadata": {},
   "source": [
    "# Define Classifiers 🔮"
   ]
  },
  {
   "cell_type": "markdown",
   "metadata": {},
   "source": [
    "## Random classifier 🪙"
   ]
  },
  {
   "cell_type": "code",
   "execution_count": 27,
   "metadata": {},
   "outputs": [],
   "source": [
    "import random\n",
    "random.seed(a=None, version=2)\n",
    "\n",
    "def classify(passenger):\n",
    "    return random.randint(0, 1)"
   ]
  },
  {
   "cell_type": "markdown",
   "metadata": {},
   "source": [
    "## Death classifier 🪦"
   ]
  },
  {
   "cell_type": "code",
   "execution_count": 28,
   "metadata": {},
   "outputs": [],
   "source": [
    "def predict_death(item):\n",
    "    return 0"
   ]
  },
  {
   "cell_type": "markdown",
   "metadata": {},
   "source": [
    "# Classification Runner 🏃‍♀️"
   ]
  },
  {
   "cell_type": "code",
   "execution_count": 29,
   "metadata": {},
   "outputs": [],
   "source": [
    "def run(f_classify, x):\n",
    "    return list(map(f_classify, x))\n",
    "\n",
    "result = run(classify, train_input)"
   ]
  },
  {
   "cell_type": "markdown",
   "metadata": {},
   "source": [
    "# Classifier Evaluation 📋"
   ]
  },
  {
   "cell_type": "code",
   "execution_count": 30,
   "metadata": {},
   "outputs": [],
   "source": [
    "def evaluate(predictions, actual) -> str:\n",
    "    correct = list(filter(\n",
    "        lambda item: item[0] == item[1],\n",
    "        list(zip(predictions, actual))\n",
    "    ))\n",
    "    \n",
    "    return '{} correct predictions out of {}. Accuracy {:.0f} %' \\\n",
    "        .format(len(correct), len(actual), 100*len(correct)/len(actual))"
   ]
  },
  {
   "cell_type": "code",
   "execution_count": 42,
   "metadata": {},
   "outputs": [
    {
     "name": "stdout",
     "output_type": "stream",
     "text": [
      "🪙Random classifier: 339 correct predictions out of 711. Accuracy 48 %\n",
      "🪦Death classifier:  434 correct predictions out of 711. Accuracy 61 %\n"
     ]
    }
   ],
   "source": [
    "print('🪙Random classifier:', evaluate(run(classify, train_input), train_labels))\n",
    "print('🪦Death classifier: ', evaluate(run(predict_death, train_input), train_labels))"
   ]
  },
  {
   "cell_type": "markdown",
   "metadata": {},
   "source": [
    "## Confusion matrix"
   ]
  },
  {
   "cell_type": "code",
   "execution_count": 47,
   "metadata": {},
   "outputs": [
    {
     "name": "stdout",
     "output_type": "stream",
     "text": [
      "🪙Uniform confusion matrix:\n",
      " [[212 222]\n",
      " [139 138]]\n",
      "\n",
      "🪦Death confusion matrix:\n",
      " [[434   0]\n",
      " [277   0]]\n"
     ]
    }
   ],
   "source": [
    "from sklearn.metrics import confusion_matrix\n",
    "\n",
    "uniform_predictions = run(classify, train_input)\n",
    "uniform_cm = confusion_matrix(train_labels, uniform_predictions)\n",
    "print('🪙Uniform confusion matrix:\\n', uniform_cm)\n",
    "\n",
    "print()\n",
    "\n",
    "death_predictions = run(predict_death, train_input)\n",
    "death_cm = confusion_matrix(train_labels, death_predictions)\n",
    "print('🪦Death confusion matrix:\\n', death_cm)"
   ]
  }
 ],
 "metadata": {
  "kernelspec": {
   "display_name": "venv",
   "language": "python",
   "name": "python3"
  },
  "language_info": {
   "codemirror_mode": {
    "name": "ipython",
    "version": 3
   },
   "file_extension": ".py",
   "mimetype": "text/x-python",
   "name": "python",
   "nbconvert_exporter": "python",
   "pygments_lexer": "ipython3",
   "version": "3.12.1"
  }
 },
 "nbformat": 4,
 "nbformat_minor": 2
}
