{
 "cells": [
  {
   "cell_type": "markdown",
   "metadata": {
    "id": "DXU3RthDTNl-"
   },
   "source": [
    "# Binary Classification"
   ]
  },
  {
   "cell_type": "markdown",
   "metadata": {},
   "source": [
    "## Look at the data"
   ]
  },
  {
   "cell_type": "markdown",
   "metadata": {},
   "source": [
    "Load the data from the csv-files"
   ]
  },
  {
   "cell_type": "code",
   "execution_count": 3,
   "metadata": {
    "id": "TUMoZEhbSlJQ"
   },
   "outputs": [],
   "source": [
    "import pandas as pd\n",
    "\n",
    "train = pd.read_csv('../titanic_data/train.csv')\n",
    "test = pd.read_csv('../titanic_data/test.csv')"
   ]
  },
  {
   "cell_type": "code",
   "execution_count": 4,
   "metadata": {
    "id": "b-8KsOHCTSZY"
   },
   "outputs": [
    {
     "name": "stdout",
     "output_type": "stream",
     "text": [
      "train has 891 rows and 12 columns\n",
      "test has 418 rows and 11 columns\n"
     ]
    }
   ],
   "source": [
    "# Listing The shapes of the Titanic datasets\n",
    "print('train has {} rows and {} columns'.format(*train.shape))\n",
    "print('test has {} rows and {} columns'.format(*test.shape))"
   ]
  },
  {
   "cell_type": "code",
   "execution_count": 5,
   "metadata": {
    "id": "MNZSnVxaTVx2"
   },
   "outputs": [
    {
     "name": "stdout",
     "output_type": "stream",
     "text": [
      "<class 'pandas.core.frame.DataFrame'>\n",
      "RangeIndex: 891 entries, 0 to 890\n",
      "Data columns (total 12 columns):\n",
      " #   Column       Non-Null Count  Dtype  \n",
      "---  ------       --------------  -----  \n",
      " 0   PassengerId  891 non-null    int64  \n",
      " 1   Survived     891 non-null    int64  \n",
      " 2   Pclass       891 non-null    int64  \n",
      " 3   Name         891 non-null    object \n",
      " 4   Sex          891 non-null    object \n",
      " 5   Age          714 non-null    float64\n",
      " 6   SibSp        891 non-null    int64  \n",
      " 7   Parch        891 non-null    int64  \n",
      " 8   Ticket       891 non-null    object \n",
      " 9   Fare         891 non-null    float64\n",
      " 10  Cabin        204 non-null    object \n",
      " 11  Embarked     889 non-null    object \n",
      "dtypes: float64(2), int64(5), object(5)\n",
      "memory usage: 83.7+ KB\n"
     ]
    }
   ],
   "source": [
    "# Listing The structure of the train dataset\n",
    "train.info()"
   ]
  },
  {
   "cell_type": "code",
   "execution_count": 6,
   "metadata": {
    "id": "t1kZilFqTX_-"
   },
   "outputs": [
    {
     "name": "stdout",
     "output_type": "stream",
     "text": [
      "<class 'pandas.core.frame.DataFrame'>\n",
      "RangeIndex: 418 entries, 0 to 417\n",
      "Data columns (total 11 columns):\n",
      " #   Column       Non-Null Count  Dtype  \n",
      "---  ------       --------------  -----  \n",
      " 0   PassengerId  418 non-null    int64  \n",
      " 1   Pclass       418 non-null    int64  \n",
      " 2   Name         418 non-null    object \n",
      " 3   Sex          418 non-null    object \n",
      " 4   Age          332 non-null    float64\n",
      " 5   SibSp        418 non-null    int64  \n",
      " 6   Parch        418 non-null    int64  \n",
      " 7   Ticket       418 non-null    object \n",
      " 8   Fare         417 non-null    float64\n",
      " 9   Cabin        91 non-null     object \n",
      " 10  Embarked     418 non-null    object \n",
      "dtypes: float64(2), int64(4), object(5)\n",
      "memory usage: 36.1+ KB\n"
     ]
    }
   ],
   "source": [
    "# Listing The structure of the test dataset\n",
    "test.info()"
   ]
  },
  {
   "cell_type": "code",
   "execution_count": 7,
   "metadata": {
    "id": "P-lekRmWTaEl"
   },
   "outputs": [
    {
     "data": {
      "text/html": [
       "<div>\n",
       "<style scoped>\n",
       "    .dataframe tbody tr th:only-of-type {\n",
       "        vertical-align: middle;\n",
       "    }\n",
       "\n",
       "    .dataframe tbody tr th {\n",
       "        vertical-align: top;\n",
       "    }\n",
       "\n",
       "    .dataframe thead th {\n",
       "        text-align: right;\n",
       "    }\n",
       "</style>\n",
       "<table border=\"1\" class=\"dataframe\">\n",
       "  <thead>\n",
       "    <tr style=\"text-align: right;\">\n",
       "      <th></th>\n",
       "      <th>PassengerId</th>\n",
       "      <th>Survived</th>\n",
       "      <th>Pclass</th>\n",
       "      <th>Name</th>\n",
       "      <th>Sex</th>\n",
       "      <th>Age</th>\n",
       "      <th>SibSp</th>\n",
       "      <th>Parch</th>\n",
       "      <th>Ticket</th>\n",
       "      <th>Fare</th>\n",
       "      <th>Cabin</th>\n",
       "      <th>Embarked</th>\n",
       "    </tr>\n",
       "  </thead>\n",
       "  <tbody>\n",
       "    <tr>\n",
       "      <th>0</th>\n",
       "      <td>1</td>\n",
       "      <td>0</td>\n",
       "      <td>3</td>\n",
       "      <td>Braund, Mr. Owen Harris</td>\n",
       "      <td>male</td>\n",
       "      <td>22.0</td>\n",
       "      <td>1</td>\n",
       "      <td>0</td>\n",
       "      <td>A/5 21171</td>\n",
       "      <td>7.2500</td>\n",
       "      <td>NaN</td>\n",
       "      <td>S</td>\n",
       "    </tr>\n",
       "    <tr>\n",
       "      <th>1</th>\n",
       "      <td>2</td>\n",
       "      <td>1</td>\n",
       "      <td>1</td>\n",
       "      <td>Cumings, Mrs. John Bradley (Florence Briggs Th...</td>\n",
       "      <td>female</td>\n",
       "      <td>38.0</td>\n",
       "      <td>1</td>\n",
       "      <td>0</td>\n",
       "      <td>PC 17599</td>\n",
       "      <td>71.2833</td>\n",
       "      <td>C85</td>\n",
       "      <td>C</td>\n",
       "    </tr>\n",
       "    <tr>\n",
       "      <th>2</th>\n",
       "      <td>3</td>\n",
       "      <td>1</td>\n",
       "      <td>3</td>\n",
       "      <td>Heikkinen, Miss. Laina</td>\n",
       "      <td>female</td>\n",
       "      <td>26.0</td>\n",
       "      <td>0</td>\n",
       "      <td>0</td>\n",
       "      <td>STON/O2. 3101282</td>\n",
       "      <td>7.9250</td>\n",
       "      <td>NaN</td>\n",
       "      <td>S</td>\n",
       "    </tr>\n",
       "    <tr>\n",
       "      <th>3</th>\n",
       "      <td>4</td>\n",
       "      <td>1</td>\n",
       "      <td>1</td>\n",
       "      <td>Futrelle, Mrs. Jacques Heath (Lily May Peel)</td>\n",
       "      <td>female</td>\n",
       "      <td>35.0</td>\n",
       "      <td>1</td>\n",
       "      <td>0</td>\n",
       "      <td>113803</td>\n",
       "      <td>53.1000</td>\n",
       "      <td>C123</td>\n",
       "      <td>S</td>\n",
       "    </tr>\n",
       "    <tr>\n",
       "      <th>4</th>\n",
       "      <td>5</td>\n",
       "      <td>0</td>\n",
       "      <td>3</td>\n",
       "      <td>Allen, Mr. William Henry</td>\n",
       "      <td>male</td>\n",
       "      <td>35.0</td>\n",
       "      <td>0</td>\n",
       "      <td>0</td>\n",
       "      <td>373450</td>\n",
       "      <td>8.0500</td>\n",
       "      <td>NaN</td>\n",
       "      <td>S</td>\n",
       "    </tr>\n",
       "  </tbody>\n",
       "</table>\n",
       "</div>"
      ],
      "text/plain": [
       "   PassengerId  Survived  Pclass  \\\n",
       "0            1         0       3   \n",
       "1            2         1       1   \n",
       "2            3         1       3   \n",
       "3            4         1       1   \n",
       "4            5         0       3   \n",
       "\n",
       "                                                Name     Sex   Age  SibSp  \\\n",
       "0                            Braund, Mr. Owen Harris    male  22.0      1   \n",
       "1  Cumings, Mrs. John Bradley (Florence Briggs Th...  female  38.0      1   \n",
       "2                             Heikkinen, Miss. Laina  female  26.0      0   \n",
       "3       Futrelle, Mrs. Jacques Heath (Lily May Peel)  female  35.0      1   \n",
       "4                           Allen, Mr. William Henry    male  35.0      0   \n",
       "\n",
       "   Parch            Ticket     Fare Cabin Embarked  \n",
       "0      0         A/5 21171   7.2500   NaN        S  \n",
       "1      0          PC 17599  71.2833   C85        C  \n",
       "2      0  STON/O2. 3101282   7.9250   NaN        S  \n",
       "3      0            113803  53.1000  C123        S  \n",
       "4      0            373450   8.0500   NaN        S  "
      ]
     },
     "execution_count": 7,
     "metadata": {},
     "output_type": "execute_result"
    }
   ],
   "source": [
    "# Listing Look at the data\n",
    "train.head()"
   ]
  },
  {
   "cell_type": "markdown",
   "metadata": {
    "id": "gcxxNapoTf8U"
   },
   "source": [
    "## Section Data Preparation and Cleaning\n"
   ]
  },
  {
   "cell_type": "code",
   "execution_count": 8,
   "metadata": {
    "id": "brc7a_rZTcRG"
   },
   "outputs": [
    {
     "name": "stdout",
     "output_type": "stream",
     "text": [
      "<class 'pandas.core.frame.DataFrame'>\n",
      "Index: 889 entries, 0 to 890\n",
      "Data columns (total 11 columns):\n",
      " #   Column       Non-Null Count  Dtype  \n",
      "---  ------       --------------  -----  \n",
      " 0   PassengerId  889 non-null    int64  \n",
      " 1   Survived     889 non-null    int64  \n",
      " 2   Pclass       889 non-null    int64  \n",
      " 3   Name         889 non-null    object \n",
      " 4   Sex          889 non-null    object \n",
      " 5   Age          889 non-null    float64\n",
      " 6   SibSp        889 non-null    int64  \n",
      " 7   Parch        889 non-null    int64  \n",
      " 8   Ticket       889 non-null    object \n",
      " 9   Fare         889 non-null    float64\n",
      " 10  Embarked     889 non-null    object \n",
      "dtypes: float64(2), int64(5), object(4)\n",
      "memory usage: 83.3+ KB\n"
     ]
    }
   ],
   "source": [
    "# Listing Cope with missing values\n",
    "# option 1\n",
    "# We only have two passengers without it. This is bearable\n",
    "train = train.dropna(subset=[\"Embarked\"])    \n",
    "\n",
    "# option 2\n",
    "# We only have very few information about the cabin, let's drop it\n",
    "train = train.drop(\"Cabin\", axis=1)       \n",
    "\n",
    "# option 3\n",
    "# The age misses quite a few times. But intuition\n",
    "# says it might be important for someone's chance to survive.\n",
    "mean = train[\"Age\"].mean()\n",
    "train[\"Age\"] = train[\"Age\"].fillna(mean)     \n",
    "\n",
    "train.info()"
   ]
  },
  {
   "cell_type": "code",
   "execution_count": 9,
   "metadata": {
    "id": "smE5unV3TlIW"
   },
   "outputs": [
    {
     "name": "stdout",
     "output_type": "stream",
     "text": [
      "There are 889 different (unique) PassengerIds in the data\n",
      "There are 889 different (unique) names in the data\n",
      "There are 680 different (unique) ticket numbers in the data\n"
     ]
    }
   ],
   "source": [
    "# Listing Unique values in columns\n",
    "print('There are {} different (unique) PassengerIds in the data'\n",
    "    .format(train[\"PassengerId\"].nunique()))\n",
    "print('There are {} different (unique) names in the data'\n",
    "    .format(train[\"Name\"].nunique()))\n",
    "print('There are {} different (unique) ticket numbers in the data'\n",
    "    .format(train[\"Ticket\"].nunique()))"
   ]
  },
  {
   "cell_type": "code",
   "execution_count": 10,
   "metadata": {
    "id": "KSqjnE1PTpXM"
   },
   "outputs": [
    {
     "name": "stdout",
     "output_type": "stream",
     "text": [
      "<class 'pandas.core.frame.DataFrame'>\n",
      "Index: 889 entries, 0 to 890\n",
      "Data columns (total 8 columns):\n",
      " #   Column    Non-Null Count  Dtype  \n",
      "---  ------    --------------  -----  \n",
      " 0   Survived  889 non-null    int64  \n",
      " 1   Pclass    889 non-null    int64  \n",
      " 2   Sex       889 non-null    object \n",
      " 3   Age       889 non-null    float64\n",
      " 4   SibSp     889 non-null    int64  \n",
      " 5   Parch     889 non-null    int64  \n",
      " 6   Fare      889 non-null    float64\n",
      " 7   Embarked  889 non-null    object \n",
      "dtypes: float64(2), int64(4), object(2)\n",
      "memory usage: 62.5+ KB\n"
     ]
    }
   ],
   "source": [
    "# Listing Remove identifying data\n",
    "train = train.drop(\"PassengerId\", axis=1)\n",
    "train = train.drop(\"Name\", axis=1)\n",
    "train = train.drop(\"Ticket\", axis=1)\n",
    "\n",
    "train.info()"
   ]
  },
  {
   "cell_type": "code",
   "execution_count": 11,
   "metadata": {
    "id": "TOp_MrIsTtyy"
   },
   "outputs": [
    {
     "data": {
      "text/html": [
       "<div>\n",
       "<style scoped>\n",
       "    .dataframe tbody tr th:only-of-type {\n",
       "        vertical-align: middle;\n",
       "    }\n",
       "\n",
       "    .dataframe tbody tr th {\n",
       "        vertical-align: top;\n",
       "    }\n",
       "\n",
       "    .dataframe thead th {\n",
       "        text-align: right;\n",
       "    }\n",
       "</style>\n",
       "<table border=\"1\" class=\"dataframe\">\n",
       "  <thead>\n",
       "    <tr style=\"text-align: right;\">\n",
       "      <th></th>\n",
       "      <th>Survived</th>\n",
       "      <th>Pclass</th>\n",
       "      <th>Sex</th>\n",
       "      <th>Age</th>\n",
       "      <th>SibSp</th>\n",
       "      <th>Parch</th>\n",
       "      <th>Fare</th>\n",
       "      <th>Embarked</th>\n",
       "    </tr>\n",
       "  </thead>\n",
       "  <tbody>\n",
       "    <tr>\n",
       "      <th>0</th>\n",
       "      <td>0</td>\n",
       "      <td>3</td>\n",
       "      <td>1</td>\n",
       "      <td>22.0</td>\n",
       "      <td>1</td>\n",
       "      <td>0</td>\n",
       "      <td>7.2500</td>\n",
       "      <td>2</td>\n",
       "    </tr>\n",
       "    <tr>\n",
       "      <th>1</th>\n",
       "      <td>1</td>\n",
       "      <td>1</td>\n",
       "      <td>0</td>\n",
       "      <td>38.0</td>\n",
       "      <td>1</td>\n",
       "      <td>0</td>\n",
       "      <td>71.2833</td>\n",
       "      <td>0</td>\n",
       "    </tr>\n",
       "    <tr>\n",
       "      <th>2</th>\n",
       "      <td>1</td>\n",
       "      <td>3</td>\n",
       "      <td>0</td>\n",
       "      <td>26.0</td>\n",
       "      <td>0</td>\n",
       "      <td>0</td>\n",
       "      <td>7.9250</td>\n",
       "      <td>2</td>\n",
       "    </tr>\n",
       "    <tr>\n",
       "      <th>3</th>\n",
       "      <td>1</td>\n",
       "      <td>1</td>\n",
       "      <td>0</td>\n",
       "      <td>35.0</td>\n",
       "      <td>1</td>\n",
       "      <td>0</td>\n",
       "      <td>53.1000</td>\n",
       "      <td>2</td>\n",
       "    </tr>\n",
       "    <tr>\n",
       "      <th>4</th>\n",
       "      <td>0</td>\n",
       "      <td>3</td>\n",
       "      <td>1</td>\n",
       "      <td>35.0</td>\n",
       "      <td>0</td>\n",
       "      <td>0</td>\n",
       "      <td>8.0500</td>\n",
       "      <td>2</td>\n",
       "    </tr>\n",
       "  </tbody>\n",
       "</table>\n",
       "</div>"
      ],
      "text/plain": [
       "   Survived  Pclass  Sex   Age  SibSp  Parch     Fare  Embarked\n",
       "0         0       3    1  22.0      1      0   7.2500         2\n",
       "1         1       1    0  38.0      1      0  71.2833         0\n",
       "2         1       3    0  26.0      0      0   7.9250         2\n",
       "3         1       1    0  35.0      1      0  53.1000         2\n",
       "4         0       3    1  35.0      0      0   8.0500         2"
      ]
     },
     "execution_count": 11,
     "metadata": {},
     "output_type": "execute_result"
    }
   ],
   "source": [
    "# Listing Transforming textual data into numbers\n",
    "from sklearn.preprocessing import LabelEncoder\n",
    "le = LabelEncoder()\n",
    "\n",
    "for col in ['Sex', 'Embarked']:\n",
    "    le.fit(train[col])\n",
    "    train[col] = le.transform(train[col])\n",
    "\n",
    "train.head()"
   ]
  },
  {
   "cell_type": "code",
   "execution_count": 12,
   "metadata": {
    "id": "MLxgWDs7TukS"
   },
   "outputs": [
    {
     "name": "stdout",
     "output_type": "stream",
     "text": [
      "The maximum age is 80.0\n",
      "The maximum fare is 512.3292\n"
     ]
    }
   ],
   "source": [
    "# Listing The maximum values\n",
    "print('The maximum age is {}'.format(train[\"Age\"].max()))\n",
    "print('The maximum fare is {}'.format(train[\"Fare\"].max()))"
   ]
  },
  {
   "cell_type": "code",
   "execution_count": 13,
   "metadata": {
    "id": "5s17xDjhTw2f"
   },
   "outputs": [
    {
     "name": "stdout",
     "output_type": "stream",
     "text": [
      "The minimum value is 0.0 and the maximum value is 1.0\n"
     ]
    }
   ],
   "source": [
    "# Listing Normalization of the data.\n",
    "from sklearn.preprocessing import MinMaxScaler\n",
    "\n",
    "scaler = MinMaxScaler()\n",
    "scaler.fit(train)\n",
    "train = scaler.transform(train)\n",
    "\n",
    "print('The minimum value is {} and the maximum value is {}'\n",
    "    .format(train.min(), train.max()))"
   ]
  },
  {
   "cell_type": "code",
   "execution_count": 14,
   "metadata": {
    "id": "a4L9jrtrTzFQ"
   },
   "outputs": [
    {
     "name": "stdout",
     "output_type": "stream",
     "text": [
      "We have 711 training and 178 testing rows\n",
      "There are 7 input columns\n"
     ]
    }
   ],
   "source": [
    "# Listing Separating input from labels and training from testing sets\n",
    "from sklearn.model_selection import train_test_split\n",
    "\n",
    "input_data = train[:, 1:8]\n",
    "labels = train[:, 0]\n",
    "\n",
    "train_input, test_input, train_labels, test_labels = train_test_split(\n",
    "    input_data, labels, test_size = 0.2)\n",
    "\n",
    "print('We have {} training and {} testing rows'.format(train_input.shape[0], test_input.shape[0]))\n",
    "print('There are {} input columns'.format(train_input.shape[1]))"
   ]
  },
  {
   "cell_type": "code",
   "execution_count": 15,
   "metadata": {
    "id": "phq3UrfFT1JQ"
   },
   "outputs": [],
   "source": [
    "# Listing Save the data to the filesystem\n",
    "import numpy as np\n",
    "\n",
    "with open('train.npy', 'wb') as f:\n",
    "    np.save(f, train_input)\n",
    "    np.save(f, train_labels)\n",
    "\n",
    "with open('test.npy', 'wb') as f:\n",
    "    np.save(f, test_input)\n",
    "    np.save(f, test_labels)\n",
    "#CAPTION Save the data to the filesystem"
   ]
  },
  {
   "cell_type": "markdown",
   "metadata": {
    "id": "eAHDY0sfT3cG"
   },
   "source": [
    "## Section Baseline"
   ]
  },
  {
   "cell_type": "code",
   "execution_count": 16,
   "metadata": {
    "id": "VCGsn4YjT5pT"
   },
   "outputs": [],
   "source": [
    "# Listing A random classifier\n",
    "import random\n",
    "random.seed(a=None, version=2)\n",
    " \n",
    "def classify(passenger):\n",
    "    return random.randint(0, 1)"
   ]
  },
  {
   "cell_type": "code",
   "execution_count": 17,
   "metadata": {
    "id": "Ml0VzYHbT_DE"
   },
   "outputs": [],
   "source": [
    "# Listing The classification runner\n",
    "def run(f_classify, x):\n",
    "    return list(map(f_classify, x))"
   ]
  },
  {
   "cell_type": "code",
   "execution_count": 18,
   "metadata": {
    "id": "z2rljZ88UDHw"
   },
   "outputs": [],
   "source": [
    "# Listing Run the classifier\n",
    "result = run(classify, train_input)"
   ]
  },
  {
   "cell_type": "code",
   "execution_count": 19,
   "metadata": {
    "id": "FqHOnjOaUHVx"
   },
   "outputs": [
    {
     "name": "stdout",
     "output_type": "stream",
     "text": [
      "378 correct predictions out of 711. Accuracy 53 %\n"
     ]
    }
   ],
   "source": [
    "# Listing Evaluate the classifier\n",
    "def evaluate(predictions, actual):\n",
    "    correct = list(filter(\n",
    "        lambda item: item[0] == item[1],\n",
    "        list(zip(predictions,actual))\n",
    "    ))\n",
    "    return '{} correct predictions out of {}. Accuracy {:.0f} %' \\\n",
    "        .format(len(correct), len(actual), 100*len(correct)/len(actual))\n",
    "\n",
    "print(evaluate(run(classify, train_input), train_labels))"
   ]
  },
  {
   "cell_type": "code",
   "execution_count": 20,
   "metadata": {
    "id": "c-y2JY5lUIGi"
   },
   "outputs": [
    {
     "name": "stdout",
     "output_type": "stream",
     "text": [
      "442 correct predictions out of 711. Accuracy 62 %\n"
     ]
    }
   ],
   "source": [
    "# Listing Always predict a passenger died\n",
    "def predict_death(item):\n",
    "    return 0\n",
    "\n",
    "print(evaluate(run(predict_death, train_input), train_labels))"
   ]
  },
  {
   "cell_type": "markdown",
   "metadata": {
    "id": "RuJfVszKUNxJ"
   },
   "source": [
    "## Section Classifier Evaluation and Measures"
   ]
  },
  {
   "cell_type": "code",
   "execution_count": 21,
   "metadata": {
    "id": "gZuPirhDUKi-"
   },
   "outputs": [
    {
     "data": {
      "text/plain": [
       "array([[442,   0],\n",
       "       [269,   0]])"
      ]
     },
     "execution_count": 21,
     "metadata": {},
     "output_type": "execute_result"
    }
   ],
   "source": [
    "# Listing Confustion matrix of the predict death classifier\n",
    "from sklearn.metrics import confusion_matrix\n",
    "\n",
    "predictions = run(predict_death, train_input)\n",
    "confusion_matrix(train_labels, predictions)"
   ]
  },
  {
   "cell_type": "code",
   "execution_count": 22,
   "metadata": {
    "id": "JJqjVeqZUUPM"
   },
   "outputs": [
    {
     "name": "stdout",
     "output_type": "stream",
     "text": [
      "The precision score of the predict_death classifier is 0.0\n"
     ]
    },
    {
     "name": "stderr",
     "output_type": "stream",
     "text": [
      "/workspaces/binary_classifiers/venv/lib/python3.12/site-packages/sklearn/metrics/_classification.py:1531: UndefinedMetricWarning: Precision is ill-defined and being set to 0.0 due to no predicted samples. Use `zero_division` parameter to control this behavior.\n",
      "  _warn_prf(average, modifier, f\"{metric.capitalize()} is\", len(result))\n"
     ]
    }
   ],
   "source": [
    "# Listing The precision score\n",
    "from sklearn.metrics import precision_score\n",
    "print('The precision score of the predict_death classifier is {}'\n",
    "    .format(precision_score(train_labels, predictions)))"
   ]
  },
  {
   "cell_type": "code",
   "execution_count": 23,
   "metadata": {
    "id": "DhVcWDl7UWd9"
   },
   "outputs": [
    {
     "name": "stdout",
     "output_type": "stream",
     "text": [
      "The recall score of the predict_death classifier is 0.0\n"
     ]
    }
   ],
   "source": [
    "# Listing The recall score\n",
    "from sklearn.metrics import recall_score\n",
    "print('The recall score of the predict_death classifier is {}'\n",
    "    .format(recall_score(train_labels, predictions)))"
   ]
  },
  {
   "cell_type": "code",
   "execution_count": 24,
   "metadata": {
    "id": "JA-cXz_zUYtN"
   },
   "outputs": [
    {
     "name": "stdout",
     "output_type": "stream",
     "text": [
      "The specificity score of the predict_death classifier is 1.00\n",
      "The npv score of the predict_death classifier is 0.62\n"
     ]
    }
   ],
   "source": [
    "# Listing The specificity and the npv\n",
    "def specificity(matrix):\n",
    "    return matrix[0][0]/(matrix[0][0]+matrix[0][1]) if (matrix[0][0]+matrix[0][1] > 0) else 0\n",
    "\n",
    "def npv(matrix):\n",
    "    return matrix[0][0]/(matrix[0][0]+matrix[1][0]) if (matrix[0][0]+matrix[1][0] > 0) else 0\n",
    "\n",
    "cm = confusion_matrix(train_labels, predictions)\n",
    "\n",
    "print('The specificity score of the predict_death classifier is {:.2f}'.format(specificity(cm)))\n",
    "print('The npv score of the predict_death classifier is {:.2f}'.format(npv(cm)))"
   ]
  },
  {
   "cell_type": "code",
   "execution_count": 25,
   "metadata": {
    "id": "jRp8cfchUbG6"
   },
   "outputs": [
    {
     "name": "stdout",
     "output_type": "stream",
     "text": [
      "The precision score of the random classifier is 0.40\n",
      "The recall score of the random classifier is 0.53\n",
      "The specificity score of the random classifier is 0.51\n",
      "The npv score of the random classifier is 0.64\n"
     ]
    }
   ],
   "source": [
    "# Listing The scores of the random classifier\n",
    "random_predictions = run(classify, train_input)\n",
    "random_cm = confusion_matrix(train_labels, random_predictions)\n",
    "\n",
    "print('The precision score of the random classifier is {:.2f}'\n",
    "    .format(precision_score(train_labels, random_predictions)))\n",
    "print('The recall score of the random classifier is {:.2f}'\n",
    "    .format(recall_score(train_labels, random_predictions)))\n",
    "print('The specificity score of the random classifier is {:.2f}'\n",
    "    .format(specificity(random_cm)))\n",
    "print('The npv score of the random classifier is {:.2f}'\n",
    "    .format(npv(random_cm)))"
   ]
  },
  {
   "cell_type": "markdown",
   "metadata": {
    "id": "XB0c3-AGUhG_"
   },
   "source": [
    "## Section Unmask the Hypocrite Classifier"
   ]
  },
  {
   "cell_type": "code",
   "execution_count": 26,
   "metadata": {
    "id": "Kl-iDyPqUhwX"
   },
   "outputs": [],
   "source": [
    "# Listing A hypocrite classifier\n",
    "def hypocrite(passenger, weight):\n",
    "    return round(min(1,max(0,weight*0.5+random.uniform(0, 1))))"
   ]
  },
  {
   "cell_type": "code",
   "execution_count": 27,
   "metadata": {
    "id": "SepL4VSjUj7a"
   },
   "outputs": [
    {
     "name": "stdout",
     "output_type": "stream",
     "text": [
      "The precision score of the hypocrite classifier is 0.42\n",
      "The recall score of the hypocrite classifier is 0.29\n",
      "The specificity score of the hypocrite classifier is 0.75\n",
      "The npv score of the hypocrite classifier is 0.64\n"
     ]
    }
   ],
   "source": [
    "# Listing The scores of the hypocrite classifier\n",
    "w_predictions = run(lambda passenger: hypocrite(passenger, -0.5), train_input)\n",
    "w_cm = confusion_matrix(train_labels, w_predictions)\n",
    "\n",
    "print('The precision score of the hypocrite classifier is {:.2f}'\n",
    "    .format(precision_score(train_labels, w_predictions)))\n",
    "print('The recall score of the hypocrite classifier is {:.2f}'\n",
    "    .format(recall_score(train_labels, w_predictions)))\n",
    "print('The specificity score of the hypocrite classifier is {:.2f}'\n",
    "    .format(specificity(w_cm)))\n",
    "print('The npv score of the hypocrite classifier is {:.2f}'\n",
    "    .format(npv(w_cm)))"
   ]
  },
  {
   "cell_type": "code",
   "execution_count": 28,
   "metadata": {
    "id": "fGZlMOaWUmqn"
   },
   "outputs": [],
   "source": [
    "# Listing Run the hypocrite classifiers\n",
    "import numpy as np\n",
    "\n",
    "# number of steps to consider between -1 and 1\n",
    "cnt_steps = 40\n",
    "\n",
    "# a list of the step numbers [0, 1, ..., 38, 39]\n",
    "steps = np.arange(0, cnt_steps, 1).tolist()\n",
    "\n",
    "# list of the weights at every step [-1, -0.95, ... 0.9, 0.95, 1.0]\n",
    "weights = list(map(\n",
    "    lambda weight: round(weight, 2),\n",
    "    np.arange(-1, 1+2/(cnt_steps-1), 2/(cnt_steps-1)).tolist()\n",
    "))\n",
    "\n",
    "# list of predictions at every step\n",
    "l_predictions = list(map(\n",
    "    lambda step: run(\n",
    "        lambda passenger: hypocrite(passenger, weights[step]),\n",
    "        train_input\n",
    "    ),\n",
    "    steps\n",
    "))\n",
    "\n",
    "# list of confusion matrices at every steo\n",
    "l_cm = list(map(\n",
    "    lambda step: confusion_matrix(train_labels, l_predictions[step]),\n",
    "    steps\n",
    "))"
   ]
  },
  {
   "cell_type": "code",
   "execution_count": 29,
   "metadata": {
    "id": "YJAoygrbUomb"
   },
   "outputs": [
    {
     "data": {
      "image/png": "[encoded data removed]",
      "text/plain": [
       "<Figure size 640x480 with 1 Axes>"
      ]
     },
     "metadata": {},
     "output_type": "display_data"
    }
   ],
   "source": [
    "# Listing Plot the distribution of predictions\n",
    "import matplotlib.pyplot as plt\n",
    "import matplotlib\n",
    "\n",
    "# create a graph for the number of predicted deaths\n",
    "deaths, = plt.plot(\n",
    "    weights, # point at x-axis\n",
    "    list(map(lambda cur: l_cm[cur][0][0]+l_cm[cur][1][0], steps)),\n",
    "    'lightsalmon', # color of the graph\n",
    "    label='Predicted death'\n",
    ")\n",
    "\n",
    "# create a graph for the number of predicted survivals\n",
    "survivals, = plt.plot(\n",
    "    weights, # point at x-axis\n",
    "    list(map(lambda cur: l_cm[cur][0][1]+l_cm[cur][1][1], steps)),\n",
    "    'lightgreen', # color of the graph\n",
    "    label='Predicted survival'\n",
    ")\n",
    "\n",
    "plt.legend(handles=[deaths, survivals],loc='upper center',\n",
    "    bbox_to_anchor=(0.5, -0.15), framealpha=0.0, ncol=2)\n",
    "plt.xlabel(\"Weight\")\n",
    "plt.ylabel(\"Number of predictions\")\n",
    "plt.show()"
   ]
  },
  {
   "cell_type": "code",
   "execution_count": 30,
   "metadata": {
    "id": "QAaVd5BzUqZj"
   },
   "outputs": [
    {
     "name": "stderr",
     "output_type": "stream",
     "text": [
      "/workspaces/binary_classifiers/venv/lib/python3.12/site-packages/sklearn/metrics/_classification.py:1531: UndefinedMetricWarning: Precision is ill-defined and being set to 0.0 due to no predicted samples. Use `zero_division` parameter to control this behavior.\n",
      "  _warn_prf(average, modifier, f\"{metric.capitalize()} is\", len(result))\n"
     ]
    }
   ],
   "source": [
    "# Listing Metrics of the hypocrite classifier\n",
    "l_precision = list(map(lambda step: precision_score(train_labels, l_predictions[step]),steps))\n",
    "l_recall = list(map(lambda step: recall_score(train_labels, l_predictions[step]),steps))\n",
    "l_specificity = list(map(lambda step: specificity(l_cm[step]),steps))\n",
    "l_npv = list(map(lambda step: npv(l_cm[step]),steps))"
   ]
  },
  {
   "cell_type": "markdown",
   "metadata": {
    "id": "QVE6wrbaUuu1"
   },
   "source": [
    "In these four lines, we calculate the four metrics\n",
    "at each step. Let's visualize them."
   ]
  },
  {
   "cell_type": "code",
   "execution_count": 31,
   "metadata": {
    "id": "IfHXA0CtUsZR"
   },
   "outputs": [
    {
     "data": {
      "image/png": "[encoded data removed]",
      "text/plain": [
       "<Figure size 640x480 with 1 Axes>"
      ]
     },
     "metadata": {},
     "output_type": "display_data"
    }
   ],
   "source": [
    "# Listing Plot the performance measures\n",
    "m_precision, = plt.plot(weights, l_precision, 'pink', label=\"precision\")\n",
    "m_recall, = plt.plot(weights, l_recall, 'cyan', label=\"recall\")\n",
    "m_specificity, = plt.plot(weights, l_specificity, 'gold', label=\"specificity\")\n",
    "m_npv, = plt.plot(weights, l_npv, 'coral', label=\"npv\")\n",
    "\n",
    "plt.legend(\n",
    "    handles=[m_precision, m_recall, m_specificity, m_npv],\n",
    "    loc='upper center',\n",
    "    bbox_to_anchor=(0.5, -0.15),\n",
    "    framealpha=0.0,\n",
    "    ncol=4)\n",
    "\n",
    "plt.xlabel(\"Weight\")\n",
    "plt.ylabel(\"Number of predictions\")\n",
    "plt.show()"
   ]
  },
  {
   "cell_type": "code",
   "execution_count": 32,
   "metadata": {
    "id": "3zKhLVnUUy3e"
   },
   "outputs": [
    {
     "data": {
      "image/png": "[encoded data removed]",
      "text/plain": [
       "<Figure size 640x480 with 1 Axes>"
      ]
     },
     "metadata": {},
     "output_type": "display_data"
    }
   ],
   "source": [
    "# Listing Calculating the mean of the measures\n",
    "l_mean = list(map(lambda step: sum(step)*0.25, zip(l_precision, l_recall, l_specificity, l_npv)))\n",
    "m_mean, = plt.plot(weights, l_mean, 'pink', label=\"Mean of the measures\")\n",
    "\n",
    "plt.legend(handles=[m_mean],loc='upper center',\n",
    "    bbox_to_anchor=(0.5, -0.15),framealpha=0.0)\n",
    "plt.ylim(0, 1)\n",
    "plt.show()"
   ]
  },
  {
   "cell_type": "code",
   "execution_count": 33,
   "metadata": {
    "id": "e2jwcPUkU06e"
   },
   "outputs": [],
   "source": [
    "# Listing A reusable function to unmask the hypocrite classifier\n",
    "def classifier_report(name, run, classify, input, labels):\n",
    "    cr_predictions = run(classify, input)\n",
    "    cr_cm = confusion_matrix(labels, cr_predictions)\n",
    "\n",
    "    cr_precision = precision_score(labels, cr_predictions)\n",
    "    cr_recall = recall_score(labels, cr_predictions)\n",
    "    cr_specificity = specificity(cr_cm)\n",
    "    cr_npv = npv(cr_cm)\n",
    "    cr_level = 0.25*(cr_precision + cr_recall + cr_specificity + cr_npv)\n",
    "\n",
    "    print('The precision score of the {} classifier is {:.2f}'\n",
    "        .format(name, cr_precision))\n",
    "    print('The recall score of the {} classifier is {:.2f}'\n",
    "        .format(name, cr_recall))\n",
    "    print('The specificity score of the {} classifier is {:.2f}'\n",
    "        .format(name, cr_specificity))\n",
    "    print('The npv score of the {} classifier is {:.2f}'\n",
    "        .format(name, cr_npv))\n",
    "    print('The information level is: {:.2f}'\n",
    "        .format(cr_level))"
   ]
  },
  {
   "cell_type": "code",
   "execution_count": 34,
   "metadata": {
    "id": "_aQSm_JXU2xW"
   },
   "outputs": [
    {
     "name": "stdout",
     "output_type": "stream",
     "text": [
      "The precision score of the Random PQC classifier is 0.35\n",
      "The recall score of the Random PQC classifier is 0.46\n",
      "The specificity score of the Random PQC classifier is 0.48\n",
      "The npv score of the Random PQC classifier is 0.59\n",
      "The information level is: 0.47\n"
     ]
    }
   ],
   "source": [
    "# Listing The report of the random classifier\n",
    "classifier_report(\n",
    "    \"Random PQC\", \n",
    "    run,\n",
    "    classify,\n",
    "    train_input,\n",
    "    train_labels)"
   ]
  }
 ],
 "metadata": {
  "colab": {
   "authorship_tag": "ABX9TyO0xh3Lfza6+LoxFrW0iaDC",
   "mount_file_id": "1FXZQl9YIJ80Z1vZZYaKPgiRFh4wteNam",
   "name": "chapter_02.ipynb",
   "provenance": []
  },
  "kernelspec": {
   "display_name": "venv",
   "language": "python",
   "name": "python3"
  },
  "language_info": {
   "codemirror_mode": {
    "name": "ipython",
    "version": 3
   },
   "file_extension": ".py",
   "mimetype": "text/x-python",
   "name": "python",
   "nbconvert_exporter": "python",
   "pygments_lexer": "ipython3",
   "version": "3.12.1"
  }
 },
 "nbformat": 4,
 "nbformat_minor": 1
}
