{
 "cells": [
  {
   "cell_type": "markdown",
   "metadata": {},
   "source": [
    "# Probabilstic Binary Classifier (Part 1)"
   ]
  },
  {
   "cell_type": "markdown",
   "metadata": {},
   "source": [
    "## Towards Naive Bayes\n",
    "So far, ...\n",
    "- Developed our first simple variational hybrid quantum-classical binary classification algorithm. We used a parameterized quantum circuit (PQC) that measured the quantum state.\n",
    "- We have not made use of the probabilistic characteristics of quantum systems yet because we were able to construct a classical program that determined the resulting probability of measuring a `0` or `1`.\n",
    "\n",
    "🥅 Starting with an initial prior probability, we update the resulting probability inside the PQC based on the evidence given by the passenger data."
   ]
  },
  {
   "cell_type": "markdown",
   "metadata": {
    "vscode": {
     "languageId": "plaintext"
    }
   },
   "source": [
    "### Load the Raw Data"
   ]
  },
  {
   "cell_type": "code",
   "execution_count": 52,
   "metadata": {},
   "outputs": [
    {
     "data": {
      "text/html": [
       "<div>\n",
       "<style scoped>\n",
       "    .dataframe tbody tr th:only-of-type {\n",
       "        vertical-align: middle;\n",
       "    }\n",
       "\n",
       "    .dataframe tbody tr th {\n",
       "        vertical-align: top;\n",
       "    }\n",
       "\n",
       "    .dataframe thead th {\n",
       "        text-align: right;\n",
       "    }\n",
       "</style>\n",
       "<table border=\"1\" class=\"dataframe\">\n",
       "  <thead>\n",
       "    <tr style=\"text-align: right;\">\n",
       "      <th></th>\n",
       "      <th>PassengerId</th>\n",
       "      <th>Survived</th>\n",
       "      <th>Pclass</th>\n",
       "      <th>Name</th>\n",
       "      <th>Sex</th>\n",
       "      <th>Age</th>\n",
       "      <th>SibSp</th>\n",
       "      <th>Parch</th>\n",
       "      <th>Ticket</th>\n",
       "      <th>Fare</th>\n",
       "      <th>Cabin</th>\n",
       "      <th>Embarked</th>\n",
       "    </tr>\n",
       "  </thead>\n",
       "  <tbody>\n",
       "    <tr>\n",
       "      <th>0</th>\n",
       "      <td>1</td>\n",
       "      <td>0</td>\n",
       "      <td>3</td>\n",
       "      <td>Braund, Mr. Owen Harris</td>\n",
       "      <td>male</td>\n",
       "      <td>22.0</td>\n",
       "      <td>1</td>\n",
       "      <td>0</td>\n",
       "      <td>A/5 21171</td>\n",
       "      <td>7.2500</td>\n",
       "      <td>NaN</td>\n",
       "      <td>S</td>\n",
       "    </tr>\n",
       "    <tr>\n",
       "      <th>1</th>\n",
       "      <td>2</td>\n",
       "      <td>1</td>\n",
       "      <td>1</td>\n",
       "      <td>Cumings, Mrs. John Bradley (Florence Briggs Th...</td>\n",
       "      <td>female</td>\n",
       "      <td>38.0</td>\n",
       "      <td>1</td>\n",
       "      <td>0</td>\n",
       "      <td>PC 17599</td>\n",
       "      <td>71.2833</td>\n",
       "      <td>C85</td>\n",
       "      <td>C</td>\n",
       "    </tr>\n",
       "    <tr>\n",
       "      <th>2</th>\n",
       "      <td>3</td>\n",
       "      <td>1</td>\n",
       "      <td>3</td>\n",
       "      <td>Heikkinen, Miss. Laina</td>\n",
       "      <td>female</td>\n",
       "      <td>26.0</td>\n",
       "      <td>0</td>\n",
       "      <td>0</td>\n",
       "      <td>STON/O2. 3101282</td>\n",
       "      <td>7.9250</td>\n",
       "      <td>NaN</td>\n",
       "      <td>S</td>\n",
       "    </tr>\n",
       "    <tr>\n",
       "      <th>3</th>\n",
       "      <td>4</td>\n",
       "      <td>1</td>\n",
       "      <td>1</td>\n",
       "      <td>Futrelle, Mrs. Jacques Heath (Lily May Peel)</td>\n",
       "      <td>female</td>\n",
       "      <td>35.0</td>\n",
       "      <td>1</td>\n",
       "      <td>0</td>\n",
       "      <td>113803</td>\n",
       "      <td>53.1000</td>\n",
       "      <td>C123</td>\n",
       "      <td>S</td>\n",
       "    </tr>\n",
       "    <tr>\n",
       "      <th>4</th>\n",
       "      <td>5</td>\n",
       "      <td>0</td>\n",
       "      <td>3</td>\n",
       "      <td>Allen, Mr. William Henry</td>\n",
       "      <td>male</td>\n",
       "      <td>35.0</td>\n",
       "      <td>0</td>\n",
       "      <td>0</td>\n",
       "      <td>373450</td>\n",
       "      <td>8.0500</td>\n",
       "      <td>NaN</td>\n",
       "      <td>S</td>\n",
       "    </tr>\n",
       "  </tbody>\n",
       "</table>\n",
       "</div>"
      ],
      "text/plain": [
       "   PassengerId  Survived  Pclass  \\\n",
       "0            1         0       3   \n",
       "1            2         1       1   \n",
       "2            3         1       3   \n",
       "3            4         1       1   \n",
       "4            5         0       3   \n",
       "\n",
       "                                                Name     Sex   Age  SibSp  \\\n",
       "0                            Braund, Mr. Owen Harris    male  22.0      1   \n",
       "1  Cumings, Mrs. John Bradley (Florence Briggs Th...  female  38.0      1   \n",
       "2                             Heikkinen, Miss. Laina  female  26.0      0   \n",
       "3       Futrelle, Mrs. Jacques Heath (Lily May Peel)  female  35.0      1   \n",
       "4                           Allen, Mr. William Henry    male  35.0      0   \n",
       "\n",
       "   Parch            Ticket     Fare Cabin Embarked  \n",
       "0      0         A/5 21171   7.2500   NaN        S  \n",
       "1      0          PC 17599  71.2833   C85        C  \n",
       "2      0  STON/O2. 3101282   7.9250   NaN        S  \n",
       "3      0            113803  53.1000  C123        S  \n",
       "4      0            373450   8.0500   NaN        S  "
      ]
     },
     "execution_count": 52,
     "metadata": {},
     "output_type": "execute_result"
    }
   ],
   "source": [
    "import pandas as pd \n",
    "train = pd.read_csv('../titanic_data/train.csv')\n",
    "train.head()"
   ]
  },
  {
   "cell_type": "markdown",
   "metadata": {},
   "source": [
    "### Calculate the Probability of Survival\n",
    "\n",
    "📝 Notes:\n",
    "- The `.eq(1)` function is chained to filter rows where the 'Survived' column's value equals `1`\n",
    "- This is already a probabilistic classifier. \n",
    "  - Specifically, it is another `predict_death` classifier.\n",
    "  - This is also an example of a **hypocrite classifier** because it does not consider individual passengers when predicting survival.\n",
    "  - Despite being a hypocrite classifier, it yields a higher precision than a purely random classifier does."
   ]
  },
  {
   "cell_type": "code",
   "execution_count": 53,
   "metadata": {},
   "outputs": [
    {
     "name": "stdout",
     "output_type": "stream",
     "text": [
      "P(Survival) is 0.38\n"
     ]
    }
   ],
   "source": [
    "# List of all survivors\n",
    "survivors = train[train.Survived.eq(1)]\n",
    "\n",
    "# Calculate the probability\n",
    "prob_survival = len(survivors)/len(train)\n",
    "print('P(Survival) is {:.2f}'.format(prob_survival))"
   ]
  },
  {
   "cell_type": "markdown",
   "metadata": {},
   "source": [
    "### Calculating the conditional probability of survival"
   ]
  },
  {
   "cell_type": "code",
   "execution_count": 54,
   "metadata": {},
   "outputs": [
    {
     "name": "stdout",
     "output_type": "stream",
     "text": [
      "P(Survived|FirstClass) is 0.63\n",
      "P(Survived|SecondClass) is 0.47\n",
      "P(Survived|ThirdClass) is 0.24\n"
     ]
    }
   ],
   "source": [
    "# List all the passengers with a first class ticket\n",
    "firstclass = train[train.Pclass.eq(1)]\n",
    "# Find the probability that a randomly sampled first class passenger survives\n",
    "prob_survival_firstclass = len(firstclass[firstclass.Survived.eq(1)])/len(firstclass)\n",
    "print('P(Survived|FirstClass) is {:.2f}'.format(prob_survival_firstclass))\n",
    "\n",
    "# List all the passengers with a second class ticket\n",
    "secondclass = train[train.Pclass.eq(2)]\n",
    "# Find the probability that a randomly sampled second class passenger survives\n",
    "prob_survival_secondclass = len(secondclass[secondclass.Survived.eq(1)])/len(secondclass)\n",
    "print('P(Survived|SecondClass) is {:.2f}'.format(prob_survival_secondclass))\n",
    "\n",
    "# List all the passengers with a third class ticket\n",
    "thirdclass = train[train.Pclass.eq(3)]\n",
    "# Find the probability that a randomly sampled third class passenger survives\n",
    "prob_survival_thirdclass = len(thirdclass[thirdclass.Survived.eq(1)])/len(thirdclass)\n",
    "print('P(Survived|ThirdClass) is {:.2f}'.format(prob_survival_thirdclass))"
   ]
  },
  {
   "cell_type": "code",
   "execution_count": 55,
   "metadata": {},
   "outputs": [
    {
     "name": "stdout",
     "output_type": "stream",
     "text": [
      "P(Survived|Female) is 0.74\n",
      "P(Survived|Male) is 0.19\n"
     ]
    }
   ],
   "source": [
    "# List all the female passengers\n",
    "female = train[train.Sex.eq(\"female\")]\n",
    "# Find the probability that a randomly selected female passenger survives\n",
    "prob_survival_female = len(female[female.Survived.eq(1)])/len(female)\n",
    "print('P(Survived|Female) is {:.2f}'.format(prob_survival_female))\n",
    "\n",
    "# List all the male passengers\n",
    "male = train[train.Sex.eq(\"male\")]\n",
    "# Find the probability that a randomly selected male passenger survives\n",
    "prob_survival_male = len(male[male.Survived.eq(1)])/len(male)\n",
    "print('P(Survived|Male) is {:.2f}'.format(prob_survival_male))"
   ]
  },
  {
   "cell_type": "code",
   "execution_count": 56,
   "metadata": {},
   "outputs": [
    {
     "name": "stdout",
     "output_type": "stream",
     "text": [
      "P(Survival|First Class, Female) is 0.97\n",
      "P(Survival|Second Class, Female) is 0.92\n",
      "P(Survival|Third Class, Female) is 0.5\n"
     ]
    }
   ],
   "source": [
    "firstclass_female = firstclass[firstclass.Sex.eq(\"female\")]\n",
    "secondclass_female = secondclass[secondclass.Sex.eq(\"female\")]\n",
    "thirdclass_female = thirdclass[thirdclass.Sex.eq(\"female\")]\n",
    "\n",
    "prob_survivla_firstclass_female = len(firstclass_female[firstclass_female.Survived.eq(1)])/len(firstclass_female)\n",
    "prob_survival_secondclass_female = len(secondclass_female[secondclass_female.Survived.eq(1)])/len(secondclass_female)\n",
    "prob_survival_thirdclass_female = len(thirdclass_female[thirdclass_female.Survived.eq(1)])/len(thirdclass_female)\n",
    "\n",
    "print('P(Survival|First Class, Female) is {:.2f}'.format(prob_survivla_firstclass_female))\n",
    "print('P(Survival|Second Class, Female) is {:.2f}'.format(prob_survival_secondclass_female))\n",
    "print('P(Survival|Third Class, Female) is {:.2}'.format(prob_survival_thirdclass_female))"
   ]
  },
  {
   "cell_type": "code",
   "execution_count": 57,
   "metadata": {},
   "outputs": [
    {
     "name": "stdout",
     "output_type": "stream",
     "text": [
      "P(Survival|First Class, Male) is 0.37\n",
      "P(Survival|Second Class, Male) is 0.16\n",
      "P(Survival|Third Class, Male) is 0.14\n"
     ]
    }
   ],
   "source": [
    "firstclass_male = firstclass[firstclass.Sex.eq(\"male\")]\n",
    "secondclass_male = secondclass[secondclass.Sex.eq(\"male\")]\n",
    "thirdclass_male = thirdclass[thirdclass.Sex.eq(\"male\")]\n",
    "\n",
    "prob_survival_firstclass_male = len(firstclass_male[firstclass_male.Survived.eq(1)])/len(firstclass_male)\n",
    "prob_survival_secondclass_male = len(secondclass_male[secondclass_male.Survived.eq(1)])/len(secondclass_male)\n",
    "prob_survival_thirdclass_male = len(thirdclass_male[thirdclass_male.Survived.eq(1)])/len(thirdclass_male)\n",
    "\n",
    "print('P(Survival|First Class, Male) is {:.2f}'.format(prob_survival_firstclass_male))\n",
    "print('P(Survival|Second Class, Male) is {:.2f}'.format(prob_survival_secondclass_male))\n",
    "print('P(Survival|Third Class, Male) is {:.2}'.format(prob_survival_thirdclass_male))"
   ]
  },
  {
   "cell_type": "markdown",
   "metadata": {},
   "source": [
    "### Counting Passengers"
   ]
  },
  {
   "cell_type": "code",
   "execution_count": 58,
   "metadata": {},
   "outputs": [
    {
     "name": "stdout",
     "output_type": "stream",
     "text": [
      "There are 314 female passengers in the dataset\n",
      "There are 577 male passengers in the dataset\n",
      "\n",
      "There are 216 passengers with a first class ticket in the dataset\n",
      "There are 184 passengers with a second class ticket in the dataset\n",
      "There are 491 passengers with a third class ticket in the dataset\n"
     ]
    }
   ],
   "source": [
    "print('There are {} female passengers in the dataset'.format(len(female)))\n",
    "print('There are {} male passengers in the dataset'.format(len(male)))\n",
    "print()\n",
    "print('There are {} passengers with a first class ticket in the dataset'.format(len(firstclass)))\n",
    "print('There are {} passengers with a second class ticket in the dataset'.format(len(secondclass)))\n",
    "print('There are {} passengers with a third class ticket in the dataset'.format(len(thirdclass)))\n"
   ]
  },
  {
   "cell_type": "code",
   "execution_count": 59,
   "metadata": {},
   "outputs": [
    {
     "name": "stdout",
     "output_type": "stream",
     "text": [
      "There are 94 female passengers with a first class ticket in the dataset\n",
      "There are 76 female passengers with a second class ticket in the dataset\n",
      "THere are 144 female passengers with a third class ticket in the dataset\n",
      "\n",
      "There are 91 surviving first class female passengers in the dataset\n",
      "There are 70 surviving second class female passengers in the dataset\n",
      "There are 72 surviving third class female passengers in the dataset\n"
     ]
    }
   ],
   "source": [
    "print('There are {} female passengers with a first class ticket in the dataset'.format(len(firstclass_female)))\n",
    "print('There are {} female passengers with a second class ticket in the dataset'.format(len(secondclass_female)))\n",
    "print('THere are {} female passengers with a third class ticket in the dataset'.format(len(thirdclass_female)))\n",
    "print()\n",
    "print('There are {} surviving first class female passengers in the dataset'.format(len(firstclass_female[firstclass_female.Survived.eq(1)])))\n",
    "print('There are {} surviving second class female passengers in the dataset'.format(len(secondclass_female[secondclass_female.Survived.eq(1)])))\n",
    "print('There are {} surviving third class female passengers in the dataset'.format(len(thirdclass_female[thirdclass_female.Survived.eq(1)])))"
   ]
  },
  {
   "cell_type": "code",
   "execution_count": 60,
   "metadata": {},
   "outputs": [
    {
     "name": "stdout",
     "output_type": "stream",
     "text": [
      "There are 122 male passengers with a first class ticket in the dataset\n",
      "There are 108 male passengers with a second class ticket in the dataset\n",
      "THere are 347 male passengers with a third class ticket in the dataset\n",
      "\n",
      "There are 45 surviving first class male passengers in the dataset\n",
      "There are 17 surviving second class male passengers in the dataset\n",
      "There are 47 surviving third class male passengers in the dataset\n"
     ]
    }
   ],
   "source": [
    "print('There are {} male passengers with a first class ticket in the dataset'.format(len(firstclass_male)))\n",
    "print('There are {} male passengers with a second class ticket in the dataset'.format(len(secondclass_male)))\n",
    "print('THere are {} male passengers with a third class ticket in the dataset'.format(len(thirdclass_male)))\n",
    "print()\n",
    "print('There are {} surviving first class male passengers in the dataset'.format(len(firstclass_male[firstclass_male.Survived.eq(1)])))\n",
    "print('There are {} surviving second class male passengers in the dataset'.format(len(secondclass_male[secondclass_male.Survived.eq(1)])))\n",
    "print('There are {} surviving third class male passengers in the dataset'.format(len(thirdclass_male[thirdclass_male.Survived.eq(1)])))"
   ]
  },
  {
   "cell_type": "markdown",
   "metadata": {},
   "source": [
    "## Bayes' Theorem\n",
    "\n",
    "$$ \\mathbb{P}(A|B)\\mathbb{P}(B) = \\mathbb{P}(B|A)\\mathbb{P}(A) $$\n",
    "\n",
    "\n",
    "\n",
    "Calculating the posterior probability of survival given being a female passenger with a second class ticket:\n",
    " \n",
    "$$ \\mathbb{P}(\\text{Survived}|\\text{Second Class, Female}) = \\frac{  \\mathbb{P}(\\text{Second Class}|\\text{Survived})    }{ \\mathbb{P}(\\text{Second Class})  } \\cdot \n",
    " \n",
    " \\frac{  \\mathbb{P}(\\text{Female}|\\text{Survived})    }{ \\mathbb{P}(\\text{Female})  } \\cdot \\mathbb{P}(\\text{Survived}) \n",
    " $$\n"
   ]
  },
  {
   "cell_type": "code",
   "execution_count": 66,
   "metadata": {},
   "outputs": [
    {
     "name": "stdout",
     "output_type": "stream",
     "text": [
      "P(Female|Survived) is 0.68\n",
      "P(Male|Survived) is 0.32\n",
      "\n",
      "P(First Class|Survived) is 0.4\n",
      "P(Second Class|Survived) is 0.25\n",
      "P(Third Class|Survived) is 0.35\n"
     ]
    }
   ],
   "source": [
    "#  calculate the backwards probabilities\n",
    "p_surv_female = len(survivors[survivors.Sex.eq(\"female\")])/len(survivors)\n",
    "p_surv_male = len(survivors[survivors.Sex.eq(\"male\")])/len(survivors) \n",
    "\n",
    "p_surv_firstclass = len(survivors[survivors.Pclass.eq(1)])/len(survivors)\n",
    "p_surv_secondclass = len(survivors[survivors.Pclass.eq(2)])/len(survivors)\n",
    "p_surv_thirdclass = len(survivors[survivors.Pclass.eq(3)])/len(survivors)\n",
    "\n",
    "print('P(Female|Survived) is {:.2}'.format(p_surv_female))\n",
    "print('P(Male|Survived) is {:.2}'.format(p_surv_male))\n",
    "print()\n",
    "print('P(First Class|Survived) is {:.2}'.format(p_surv_firstclass))\n",
    "print('P(Second Class|Survived) is {:.2}'.format(p_surv_secondclass))\n",
    "print('P(Third Class|Survived) is {:.2}'.format(p_surv_thirdclass))"
   ]
  },
  {
   "cell_type": "markdown",
   "metadata": {},
   "source": [
    "### Modifier and the informativeness of a survivor being female:\n",
    "\n",
    "$$mod_{\\text{female}}=\\frac{N_{\\text{survivor,female}}}{\\frac{N_{female}}{N_{tot}}} \\quad\\quad \\text{(modifier score)}$$\n",
    "\n",
    "$$info_\\text{female} = |modifier_\\text{female}-1| \\quad\\quad \\text{(informativeness)}$$\n"
   ]
  },
  {
   "cell_type": "code",
   "execution_count": 71,
   "metadata": {},
   "outputs": [
    {
     "name": "stdout",
     "output_type": "stream",
     "text": [
      "The modifier of being female is 1.93. \n",
      "The informativeness is 0.93.\n",
      "\n",
      "The modifier of being male is 0.49. \n",
      "The informativeness is 0.51.\n"
     ]
    }
   ],
   "source": [
    "# calculate the modifier and the informativeness of a survivor being female\n",
    "mod_female = p_surv_female / (len(female)/len(train))\n",
    "info_female = abs(mod_female-1)\n",
    "\n",
    "# calculate the modifier and the informativeness of a survivor being male\n",
    "mod_male = p_surv_male / (len(male)/len(train))\n",
    "info_male = abs(mod_male-1)\n",
    "\n",
    "print('The modifier of being female is {:.2f}. \\nThe informativeness is {:.2f}.'.format(mod_female,info_female))\n",
    "print()\n",
    "print('The modifier of being male is {:.2f}. \\nThe informativeness is {:.2f}.'.format(mod_male,info_male))"
   ]
  },
  {
   "cell_type": "code",
   "execution_count": 74,
   "metadata": {},
   "outputs": [
    {
     "name": "stdout",
     "output_type": "stream",
     "text": [
      "The modifier of being first class is 1.64. \n",
      "The informativeness of being first class is 0.64.\n",
      "\n",
      "The modifier of being second class is 1.23. \n",
      "The informativeness of being second class is 0.23.\n",
      "\n",
      "The modifier of being third class is 0.63. \n",
      "The informativeness of being third class is 0.37.\n"
     ]
    }
   ],
   "source": [
    "# calculate the modifier and the informativeness of a survivor being first class\n",
    "mod_firstclass = p_surv_firstclass / (len(firstclass)/len(train))\n",
    "info_firstclass = abs(mod_firstclass-1)\n",
    "\n",
    "# calculate the modifier and the informativeness of a survivor being second class\n",
    "mod_secondclass = p_surv_secondclass / (len(secondclass)/len(train))\n",
    "info_secondclass = abs(mod_secondclass-1)\n",
    "\n",
    "# calculate the modifier and the informativeness of a survivor being third class\n",
    "mod_thirdclass = p_surv_thirdclass / (len(thirdclass)/len(train))\n",
    "info_thirdclass = abs(mod_thirdclass-1)\n",
    "\n",
    "print('The modifier of being first class is {:.2f}. \\nThe informativeness of being first class is {:.2f}.'.format(mod_firstclass,info_firstclass))\n",
    "print()\n",
    "print('The modifier of being second class is {:.2f}. \\nThe informativeness of being second class is {:.2f}.'.format(mod_secondclass,info_secondclass))\n",
    "print()\n",
    "print('The modifier of being third class is {:.2f}. \\nThe informativeness of being third class is {:.2f}.'.format(mod_thirdclass,info_thirdclass))"
   ]
  }
 ],
 "metadata": {
  "kernelspec": {
   "display_name": "venv",
   "language": "python",
   "name": "python3"
  },
  "language_info": {
   "codemirror_mode": {
    "name": "ipython",
    "version": 3
   },
   "file_extension": ".py",
   "mimetype": "text/x-python",
   "name": "python",
   "nbconvert_exporter": "python",
   "pygments_lexer": "ipython3",
   "version": "3.12.1"
  }
 },
 "nbformat": 4,
 "nbformat_minor": 2
}
