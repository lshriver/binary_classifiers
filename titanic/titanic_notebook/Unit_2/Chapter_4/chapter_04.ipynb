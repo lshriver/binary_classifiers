{
 "cells": [
  {
   "cell_type": "markdown",
   "metadata": {
    "id": "6Va6KLjfdgOm"
   },
   "source": [
    "# Chapter 4"
   ]
  },
  {
   "cell_type": "code",
   "execution_count": 2,
   "metadata": {
    "id": "Y9ctdda_dZ8b"
   },
   "outputs": [],
   "source": [
    "# Listing Load the raw data\n",
    "import pandas as pd\n",
    "train = pd.read_csv('../../../titanic_data/train.csv')"
   ]
  },
  {
   "cell_type": "markdown",
   "metadata": {
    "id": "xVAvongfdlxn"
   },
   "source": [
    "## Section Towards Naïve Bayes"
   ]
  },
  {
   "cell_type": "code",
   "execution_count": 3,
   "metadata": {
    "id": "q4hSoDSUdjH-"
   },
   "outputs": [
    {
     "name": "stdout",
     "output_type": "stream",
     "text": [
      "P(Survival) is 0.38\n"
     ]
    }
   ],
   "source": [
    "# Listing Calculating the probability to survive the Titanic shipwreck\n",
    "# list of all survivors\n",
    "survivors =  train[train.Survived.eq(1)]\n",
    "\n",
    "# calculate the probability\n",
    "prob_survival = len(survivors)/len(train)\n",
    "print('P(Survival) is {:.2f}'.format(prob_survival))"
   ]
  },
  {
   "cell_type": "code",
   "execution_count": 4,
   "metadata": {
    "id": "wskiT0QzdpVN"
   },
   "outputs": [
    {
     "name": "stdout",
     "output_type": "stream",
     "text": [
      "P(Survived|SecondClass) is 0.47\n"
     ]
    }
   ],
   "source": [
    "# Listing Calculating the probability to survive if the passenger had asecond‐class ticket\n",
    "# list of all passengers with a second class ticket\n",
    "secondclass = train[train.Pclass.eq(2)]\n",
    "\n",
    "prob_survival_secondclass = len(secondclass[secondclass.Survived.eq(1)])/len(secondclass)\n",
    "print('P(Survived|SecondClass) is {:.2f}'.format(prob_survival_secondclass))"
   ]
  },
  {
   "cell_type": "code",
   "execution_count": 5,
   "metadata": {
    "id": "l8SefcK9dsXr"
   },
   "outputs": [
    {
     "name": "stdout",
     "output_type": "stream",
     "text": [
      "P(Survived|Female) is 0.74\n"
     ]
    }
   ],
   "source": [
    "# Listing Calculating the probability to survive if the passenger was female\n",
    "#list of all females\n",
    "females = train[train.Sex.eq(\"female\")]\n",
    "\n",
    "prob_survival_female = len(females[females.Survived.eq(1)])/len(females)\n",
    "print('P(Survived|Female) is {:.2f}'.format(prob_survival_female))"
   ]
  },
  {
   "cell_type": "code",
   "execution_count": 6,
   "metadata": {
    "id": "FuOFUUaCduPa"
   },
   "outputs": [
    {
     "name": "stdout",
     "output_type": "stream",
     "text": [
      "P(Survived|SecondClass,Female) is 0.92\n"
     ]
    }
   ],
   "source": [
    "# Listing Calculating the probability to survive if the passenger was female andhad a second‐class ticket\n",
    "#list of all females with a second class ticket\n",
    "secondclass_female = secondclass[secondclass.Sex.eq(\"female\")]\n",
    "prob_survival_secondclass_female = len(secondclass_female[secondclass_female.Survived.eq(1)])/len(secondclass_female)\n",
    "print('P(Survived|SecondClass,Female) is {:.2f}'.format(prob_survival_secondclass_female))"
   ]
  },
  {
   "cell_type": "code",
   "execution_count": 7,
   "metadata": {
    "id": "jh4w7-4ydwJe"
   },
   "outputs": [
    {
     "name": "stdout",
     "output_type": "stream",
     "text": [
      "There are 314 female passengers the dataset\n",
      "There are 184 passengers with a second-class ticket in the dataset\n",
      "There are 76 female passengers with a second-class ticket in\n",
      "the dataset\n"
     ]
    }
   ],
   "source": [
    "# Listing Counting passengers\n",
    "print('There are {} female passengers the dataset'.format(len(females)))\n",
    "print('There are {} passengers with a second-class ticket in the dataset'.format(len(secondclass)))\n",
    "print('There are {} female passengers with a second-class ticket in\\nthe dataset'.format(len(secondclass_female)))"
   ]
  },
  {
   "cell_type": "markdown",
   "metadata": {
    "id": "xBfNRmpnd2Qx"
   },
   "source": [
    "## Section Bayes' Theorem"
   ]
  },
  {
   "cell_type": "code",
   "execution_count": 8,
   "metadata": {
    "id": "EifFC-vhdzUg"
   },
   "outputs": [
    {
     "name": "stdout",
     "output_type": "stream",
     "text": [
      "The modifier of the second-class ticket is 1.23.\n",
      "The informativeness is 0.23\n",
      "The modifier of being female is 1.93.\n",
      "The informativeness is 0.93\n",
      "\n",
      "P(Survived|SecondClass,Female) is 0.91\n"
     ]
    }
   ],
   "source": [
    "# Listing Calculating the posterior probability\n",
    "# calculate the backwards probability of a survivor having a\n",
    "# second-class ticket\n",
    "p_surv_seccl = len(survivors[survivors.Pclass.eq(2)])/len(survivors)\n",
    "\n",
    "# calculate the modifier and the informativeness of the second-class ticket\n",
    "m_seccl = p_surv_seccl / (len(secondclass)/len(train))\n",
    "i_seccl = abs(m_seccl-1)\n",
    "print('The modifier of the second-class ticket is {:.2f}.\\nThe informativeness is {:.2f}'.format(m_seccl, i_seccl))\n",
    "\n",
    "# calculate the backwards probability of a survivor being female\n",
    "p_surv_female = len(survivors[survivors.Sex.eq(\"female\")])/len(survivors)\n",
    "\n",
    "# calculate the modifier and the informativeness of being female\n",
    "m_female = p_surv_female / (len(females)/len(train))\n",
    "i_female = abs(m_female-1)\n",
    "print('The modifier of being female is {:.2f}.\\nThe informativeness is {:.2f}'.format(m_female,i_female))\n",
    "\n",
    "# calculate the posterior probability\n",
    "posterior = m_seccl * m_female * prob_survival\n",
    "print('\\nP(Survived|SecondClass,Female) is {:.2f}'.format(posterior))"
   ]
  },
  {
   "cell_type": "markdown",
   "metadata": {
    "id": "nkZXlfzFd53f"
   },
   "source": [
    "## Section Gaussian Naïve Bayes"
   ]
  },
  {
   "cell_type": "code",
   "execution_count": 9,
   "metadata": {
    "id": "ZdqsE3kUd9J-"
   },
   "outputs": [
    {
     "data": {
      "text/plain": [
       "<Axes: >"
      ]
     },
     "execution_count": 9,
     "metadata": {},
     "output_type": "execute_result"
    },
    {
     "data": {
      "image/png": "[encoded data removed]",
      "text/plain": [
       "<Figure size 640x480 with 1 Axes>"
      ]
     },
     "metadata": {},
     "output_type": "display_data"
    }
   ],
   "source": [
    "# Listing The actual distribution of the passenger age\n",
    "train[\"Age\"].hist(bins=80)"
   ]
  },
  {
   "cell_type": "code",
   "execution_count": 10,
   "metadata": {
    "id": "p7AhUEuud_Kq"
   },
   "outputs": [
    {
     "name": "stdout",
     "output_type": "stream",
     "text": [
      "The average passenger age is 29.7. The standard deviation is 14.5\n"
     ]
    }
   ],
   "source": [
    "# Listing Calculating the mean and the standard deviation of the passenger age\n",
    "age_mean = train[\"Age\"].mean()\n",
    "age_std = train[\"Age\"].std()\n",
    "print('The average passenger age is {:.1f}. The standard deviation is {:.1f}'.format(age_mean, age_std))"
   ]
  },
  {
   "cell_type": "code",
   "execution_count": 11,
   "metadata": {
    "id": "oZ24Hg92eBBB"
   },
   "outputs": [
    {
     "name": "stdout",
     "output_type": "stream",
     "text": [
      "The average survivor age is 28.3. The standard deviation is 15.0\n",
      "The modifier of the age of 29 is 0.97.\n",
      "Its informativeness is 0.03.\n"
     ]
    }
   ],
   "source": [
    "# Listing Calculating modifier and informativenesses of the age of 29\n",
    "from math import exp, sqrt, pi\n",
    "\n",
    "def density(mu,sigma,age):\n",
    "    return 1/(sigma*sqrt(2*pi))*exp(-0.5*((age-mu)/sigma)**2)\n",
    "\n",
    "survivor_age_mean = survivors[\"Age\"].mean()\n",
    "survivor_age_std = survivors[\"Age\"].std()\n",
    "print('The average survivor age is {:.1f}. The standard deviation is {:.1f}'.format(survivor_age_mean, survivor_age_std))\n",
    "\n",
    "# calculate the Informativeness of the age of 29\n",
    "p_surv_age29 = density(survivor_age_mean, survivor_age_std, 29)\n",
    "p_age29 = density(age_mean, age_std, 29)\n",
    "m_age29 = p_surv_age29 / p_age29\n",
    "i_age29 = abs(m_age29-1)\n",
    "print('The modifier of the age of 29 is {:.2f}.'.format(m_age29))\n",
    "print('Its informativeness is {:.2f}.'.format(i_age29))"
   ]
  },
  {
   "cell_type": "code",
   "execution_count": 12,
   "metadata": {
    "id": "zLrR8gUOeC9t"
   },
   "outputs": [
    {
     "name": "stdout",
     "output_type": "stream",
     "text": [
      "The modifier of the age of 70 is 0.94.\n",
      "Its informativeness is 0.06.\n",
      "\n",
      "The modifier of the age of 5 is 1.22.\n",
      "Its informativeness is 0.22.\n"
     ]
    }
   ],
   "source": [
    "# Listing Calculating informativenesses of other ages\n",
    "# calculate the Informativeness of the age of 70\n",
    "p_surv_age70 = density(survivor_age_mean, survivor_age_std, 70)\n",
    "p_age70 = density(age_mean, age_std, 70)\n",
    "m_age70 = p_surv_age70 / p_age70\n",
    "i_age70 = abs(m_age70-1)\n",
    "print('The modifier of the age of 70 is {:.2f}.'.format(m_age70))\n",
    "print('Its informativeness is {:.2f}.\\n'.format(i_age70))\n",
    "\n",
    "# calculate the Informativeness of the age of 5\n",
    "p_surv_age5 = density(survivor_age_mean, survivor_age_std, 5)\n",
    "p_age5 = density(age_mean, age_std, 5)\n",
    "m_age5 = p_surv_age5 / p_age5\n",
    "i_age5 = abs(m_age5-1)\n",
    "print('The modifier of the age of 5 is {:.2f}.'.format(m_age5))\n",
    "print('Its informativeness is {:.2f}.'.format(i_age5))"
   ]
  }
 ],
 "metadata": {
  "colab": {
   "authorship_tag": "ABX9TyO4YzFNoMpoZmBoXmgIj6oi",
   "collapsed_sections": [
    "xBfNRmpnd2Qx",
    "nkZXlfzFd53f"
   ],
   "name": "chapter_04.ipynb",
   "provenance": []
  },
  "kernelspec": {
   "display_name": "venv",
   "language": "python",
   "name": "python3"
  },
  "language_info": {
   "codemirror_mode": {
    "name": "ipython",
    "version": 3
   },
   "file_extension": ".py",
   "mimetype": "text/x-python",
   "name": "python",
   "nbconvert_exporter": "python",
   "pygments_lexer": "ipython3",
   "version": "3.12.1"
  }
 },
 "nbformat": 4,
 "nbformat_minor": 1
}
