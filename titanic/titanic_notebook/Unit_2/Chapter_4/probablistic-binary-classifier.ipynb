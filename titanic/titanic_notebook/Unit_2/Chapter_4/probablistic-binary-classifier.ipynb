{
 "cells": [
  {
   "cell_type": "markdown",
   "metadata": {},
   "source": [
    "# Probabilistic Binary Classifier (Part 2)"
   ]
  },
  {
   "cell_type": "markdown",
   "metadata": {
    "vscode": {
     "languageId": "plaintext"
    }
   },
   "source": [
    "## Gaussian Naive Bayes\n",
    "General form of the **Gaussian density function**:\n",
    "$$P(x)=\\frac{1}{\\sigma\\sqrt{2\\pi}}e^{-\\frac{1}{2}\\big(\\frac{x-\\mu}{\\sigma}\\big)^2}$$\n",
    "\n",
    "🥅 Use the Gaussian density function to calculate how age affects the chances to survive."
   ]
  },
  {
   "cell_type": "markdown",
   "metadata": {},
   "source": [
    "### Actual distribution of passenger age"
   ]
  },
  {
   "cell_type": "code",
   "execution_count": 7,
   "metadata": {},
   "outputs": [
    {
     "data": {
      "image/png": "[encoded data removed]",
      "text/plain": [
       "<Figure size 640x480 with 1 Axes>"
      ]
     },
     "metadata": {},
     "output_type": "display_data"
    }
   ],
   "source": [
    "import pandas as pd\n",
    "import matplotlib.pyplot as plt\n",
    "\n",
    "train = pd.read_csv('../../../titanic_data/train.csv')\n",
    "\n",
    "# Plot the histogram\n",
    "train[\"Age\"].hist(bins=80)\n",
    "\n",
    "# Add labels\n",
    "plt.xlabel(\"Age\")\n",
    "plt.ylabel(\"Passenger Count\")\n",
    "\n",
    "# Show the plot\n",
    "plt.show()"
   ]
  },
  {
   "cell_type": "code",
   "execution_count": 8,
   "metadata": {},
   "outputs": [
    {
     "name": "stdout",
     "output_type": "stream",
     "text": [
      "The average passenger age is 29.7 years old.\n",
      "The standard deviation for passenger age is 14.5 years.\n"
     ]
    }
   ],
   "source": [
    "# Calculate the mean and standard deviation of the Age category\n",
    "age_mean = train[\"Age\"].mean()\n",
    "age_std = train[\"Age\"].std()\n",
    "print('The average passenger age is {:.1f} years old.'.format(age_mean))\n",
    "print('The standard deviation for passenger age is {:.1f} years.'.format(age_std))"
   ]
  },
  {
   "cell_type": "markdown",
   "metadata": {},
   "source": [
    "### Calculating the modifier and informativeness of the age 29\n",
    "\n",
    "$$mod_\\text{age=29}=\\frac{P(\\text{Age}=29|\\text{Survived})}{P(\\text{Age=29})}$$"
   ]
  },
  {
   "cell_type": "code",
   "execution_count": 9,
   "metadata": {},
   "outputs": [
    {
     "name": "stdout",
     "output_type": "stream",
     "text": [
      "The average survivor age is 28.3. The standard deviation is 15.0\n",
      "The modifier of the age of 29 is 0.97.\n",
      "Its informativeness is 0.03.\n"
     ]
    }
   ],
   "source": [
    "from math import exp, sqrt, pi\n",
    "\n",
    "survivors = train[train.Survived.eq(1)]\n",
    "\n",
    "def gaussian_density(mu,sigma,age):\n",
    "    return 1/(sigma*sqrt(2*pi))*exp(-0.5*((age-mu)/sigma)**2)\n",
    "\n",
    "survivor_age_mean = survivors[\"Age\"].mean()\n",
    "survivor_age_std = survivors[\"Age\"].std()\n",
    "print('The average survivor age is {:.1f}. The standard deviation is {:.1f}'.format(survivor_age_mean, survivor_age_std))\n",
    "\n",
    "# calculate the Informativeness of the age of 29\n",
    "p_surv_age29 = gaussian_density(survivor_age_mean, survivor_age_std, 29)\n",
    "p_age29 = gaussian_density(age_mean, age_std, 29)\n",
    "m_age29 = p_surv_age29 / p_age29\n",
    "i_age29 = abs(m_age29-1)\n",
    "print('The modifier of the age of 29 is {:.2f}.'.format(m_age29))\n",
    "print('Its informativeness is {:.2f}.'.format(i_age29))"
   ]
  },
  {
   "cell_type": "markdown",
   "metadata": {},
   "source": [
    "#### Conclusion\n",
    "The modifier of age 29 is near 1 and the informativeness of age 29 is near zero. This tells us that having an age of 29 does not have much of an effect on the probability of survival. "
   ]
  },
  {
   "cell_type": "markdown",
   "metadata": {},
   "source": [
    "### Calculating the modifier and informativeness of other ages"
   ]
  },
  {
   "cell_type": "code",
   "execution_count": 10,
   "metadata": {},
   "outputs": [
    {
     "name": "stdout",
     "output_type": "stream",
     "text": [
      "The modifier of the age of 70 is 0.94.\n",
      "Its informativeness is 0.06.\n",
      "\n",
      "The modifier of the age of 5 is 1.22.\n",
      "Its informativeness is 0.22.\n"
     ]
    }
   ],
   "source": [
    "# calculate the Informativeness of the age of 70\n",
    "p_surv_age70 = gaussian_density(survivor_age_mean, survivor_age_std, 70)\n",
    "p_age70 = gaussian_density(age_mean, age_std, 70)\n",
    "m_age70 = p_surv_age70 / p_age70\n",
    "i_age70 = abs(m_age70-1)\n",
    "print('The modifier of the age of 70 is {:.2f}.'.format(m_age70))\n",
    "print('Its informativeness is {:.2f}.\\n'.format(i_age70))\n",
    "\n",
    "# calculate the Informativeness of the age of 5\n",
    "p_surv_age5 = gaussian_density(survivor_age_mean, survivor_age_std, 5)\n",
    "p_age5 = gaussian_density(age_mean, age_std, 5)\n",
    "m_age5 = p_surv_age5 / p_age5\n",
    "i_age5 = abs(m_age5-1)\n",
    "print('The modifier of the age of 5 is {:.2f}.'.format(m_age5))\n",
    "print('Its informativeness is {:.2f}.'.format(i_age5))"
   ]
  },
  {
   "cell_type": "markdown",
   "metadata": {},
   "source": [
    "#### Conclusion\n",
    "The modifier of the age of 70 is not much different from the modifier of 29, but an age of 5 years results in an increased probability of survival."
   ]
  }
 ],
 "metadata": {
  "kernelspec": {
   "display_name": "venv",
   "language": "python",
   "name": "python3"
  },
  "language_info": {
   "codemirror_mode": {
    "name": "ipython",
    "version": 3
   },
   "file_extension": ".py",
   "mimetype": "text/x-python",
   "name": "python",
   "nbconvert_exporter": "python",
   "pygments_lexer": "ipython3",
   "version": "3.12.1"
  }
 },
 "nbformat": 4,
 "nbformat_minor": 2
}
